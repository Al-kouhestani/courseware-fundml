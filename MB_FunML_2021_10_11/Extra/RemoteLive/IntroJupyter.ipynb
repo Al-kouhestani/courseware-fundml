{
 "cells": [
  {
   "cell_type": "code",
   "execution_count": 13,
   "metadata": {},
   "outputs": [],
   "source": [
    "# comment, ignore, do"
   ]
  },
  {
   "cell_type": "markdown",
   "metadata": {},
   "source": [
    "# Title"
   ]
  },
  {
   "cell_type": "markdown",
   "metadata": {},
   "source": [
    "# Notebooks\n",
    "\n",
    "## What tools do data scientists use?\n",
    "\n",
    "* excel\n",
    "    * showing values, hiding formula   \n",
    "* sql\n",
    "    * showing the formula, and values\n",
    "* notebooks\n",
    "    * showing the formula, and values, and documenting\n",
    "* code editors\n",
    "    * showing the formula \n",
    "\n",
    "\n"
   ]
  },
  {
   "cell_type": "code",
   "execution_count": 3,
   "metadata": {},
   "outputs": [],
   "source": [
    "x = 10\n",
    "y =  2 * x + 10"
   ]
  },
  {
   "cell_type": "code",
   "execution_count": 4,
   "metadata": {},
   "outputs": [
    {
     "data": {
      "text/plain": [
       "30"
      ]
     },
     "execution_count": 4,
     "metadata": {},
     "output_type": "execute_result"
    }
   ],
   "source": [
    "y"
   ]
  },
  {
   "cell_type": "markdown",
   "metadata": {},
   "source": [
    "# My Report\n",
    "## Subtitle\n",
    "### Subheading\n",
    "##### Subsubsubheading\n",
    "\n",
    "\n",
    "* *bullets*\n",
    "* **bullets**\n",
    "\n",
    "$\\hat{y} = \\hat{f}(x; a, b) = ax + b$\n",
    "\n",
    "* the `ticks` format text like code\n",
    "\n",
    "<img src=\"http://localhost:8888/static/base/images/logo.png\" align=\"left\" width=\"200px\"/>\n",
    "\n"
   ]
  },
  {
   "cell_type": "code",
   "execution_count": 11,
   "metadata": {
    "scrolled": false
   },
   "outputs": [
    {
     "data": {
      "text/plain": [
       "<matplotlib.axes._subplots.AxesSubplot at 0x1e1412d3bb0>"
      ]
     },
     "execution_count": 11,
     "metadata": {},
     "output_type": "execute_result"
    },
    {
     "data": {
      "image/png": "[encoded data removed]",
      "text/plain": [
       "<Figure size 432x288 with 1 Axes>"
      ]
     },
     "metadata": {
      "needs_background": "light"
     },
     "output_type": "display_data"
    }
   ],
   "source": [
    "import seaborn as sns\n",
    "\n",
    "sns.lineplot(x=[-2, -1, 0, 1, 2], y=[4, 1, 0, 1, 4])"
   ]
  },
  {
   "cell_type": "markdown",
   "metadata": {},
   "source": [
    "## Exercise\n",
    "\n",
    "### Part 1\n",
    "* insert: a cell using `+` icon\n",
    "* click: on the cell\n",
    "* change: the type to Markdown using the toolbar\n",
    "* paste: the chat message\n",
    "* press: run on the toolbar\n",
    "\n",
    "### Part 2:\n",
    "* insert a cell\n",
    "* paste python code\n",
    "* run\n",
    "\n",
    "```python\n",
    "import seaborn as sns\n",
    "\n",
    "sns.lineplot(x=[-2, -1, 0, 1, 2], y=[4, 1, 0, 1, 4])\n",
    "```"
   ]
  },
  {
   "cell_type": "code",
   "execution_count": null,
   "metadata": {},
   "outputs": [],
   "source": []
  }
 ],
 "metadata": {
  "kernelspec": {
   "display_name": "Python 3",
   "language": "python",
   "name": "python3"
  },
  "language_info": {
   "codemirror_mode": {
    "name": "ipython",
    "version": 3
   },
   "file_extension": ".py",
   "mimetype": "text/x-python",
   "name": "python",
   "nbconvert_exporter": "python",
   "pygments_lexer": "ipython3",
   "version": "3.8.3"
  }
 },
 "nbformat": 4,
 "nbformat_minor": 4
}
