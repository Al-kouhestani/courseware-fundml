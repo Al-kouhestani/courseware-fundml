{
 "cells": [
  {
   "cell_type": "markdown",
   "metadata": {},
   "source": [
    "# Introduction to Machine Learning Methodology"
   ]
  },
  {
   "cell_type": "markdown",
   "metadata": {},
   "source": [
    "## How do I choose the best approach?"
   ]
  },
  {
   "cell_type": "markdown",
   "metadata": {},
   "source": [
    "There's two ways of varying the approach to modelling,\n",
    "\n",
    "* choose a different algorithm\n",
    "* change the input to the same algorithm\n",
    "    * not the data, but\n",
    "    * **the hyper-parameters**\n",
    "    \n",
    "They amount to the same thing: any variation in approach *produces a distinct model*."
   ]
  },
  {
   "cell_type": "code",
   "execution_count": 5,
   "metadata": {},
   "outputs": [],
   "source": [
    "import seaborn as sns\n",
    "tips = sns.load_dataset('tips')"
   ]
  },
  {
   "cell_type": "code",
   "execution_count": 22,
   "metadata": {},
   "outputs": [],
   "source": [
    "X = tips[['total_bill', 'size']]\n",
    "y = tips['tip']"
   ]
  },
  {
   "cell_type": "code",
   "execution_count": 3,
   "metadata": {},
   "outputs": [],
   "source": [
    "from sklearn.linear_model import Lasso, LinearRegression\n",
    "from sklearn.neighbors import KNeighborsRegressor"
   ]
  },
  {
   "cell_type": "markdown",
   "metadata": {},
   "source": [
    "In ML we typically brute-force our way to \"good solution\", ie., we try a lot of different approaches,"
   ]
  },
  {
   "cell_type": "code",
   "execution_count": 11,
   "metadata": {},
   "outputs": [],
   "source": [
    "approaches = [\n",
    "    LinearRegression(),\n",
    "    Lasso(),\n",
    "    KNeighborsRegressor(1),\n",
    "    KNeighborsRegressor(3),\n",
    "    KNeighborsRegressor(7),\n",
    "    KNeighborsRegressor(21),\n",
    "    KNeighborsRegressor(41),\n",
    "]"
   ]
  },
  {
   "cell_type": "markdown",
   "metadata": {},
   "source": [
    "With each we will `.fit()` and then `.score()` (ie., compute the total loss), "
   ]
  },
  {
   "cell_type": "code",
   "execution_count": 23,
   "metadata": {},
   "outputs": [],
   "source": [
    "scores = []\n",
    "\n",
    "# REPEAT .fit, .score FOR EVERY a IN approaches\n",
    "for a in approaches:\n",
    "    # fit\n",
    "    a.fit(X, y)\n",
    "    \n",
    "    # sklearn chooses a default error formula\n",
    "    # eg., mse for many approaches\n",
    "    score = a.score(X, y)\n",
    "    \n",
    "    # remeber the scores and approaches\n",
    "    scores.append( (score, a) )"
   ]
  },
  {
   "cell_type": "code",
   "execution_count": 24,
   "metadata": {},
   "outputs": [
    {
     "data": {
      "text/plain": [
       "(0.9896142080482307, KNeighborsRegressor(n_neighbors=1))"
      ]
     },
     "execution_count": 24,
     "metadata": {},
     "output_type": "execute_result"
    }
   ],
   "source": [
    "max(scores)"
   ]
  },
  {
   "cell_type": "markdown",
   "metadata": {},
   "source": [
    "## Is this brute-force approach correct?"
   ]
  },
  {
   "cell_type": "markdown",
   "metadata": {},
   "source": [
    "What are we really interested in?\n",
    "\n",
    "We want our model to generalise. We do not care how well `.predict` performs on the data it has already seen. (We already know the answers...).\n",
    "\n",
    "We really want to know how well it will perform in the future. We can't sample from the future. We can however *hide* data, and see how well it performs on that..."
   ]
  },
  {
   "cell_type": "code",
   "execution_count": 20,
   "metadata": {},
   "outputs": [],
   "source": [
    "from sklearn.model_selection import train_test_split"
   ]
  },
  {
   "cell_type": "code",
   "execution_count": 41,
   "metadata": {},
   "outputs": [],
   "source": [
    "Xtr, Xte, ytr, yte = train_test_split(X, y, test_size=0.2) # 80/20 split"
   ]
  },
  {
   "cell_type": "code",
   "execution_count": 42,
   "metadata": {
    "scrolled": true
   },
   "outputs": [
    {
     "data": {
      "text/plain": [
       "(195, 195)"
      ]
     },
     "execution_count": 42,
     "metadata": {},
     "output_type": "execute_result"
    }
   ],
   "source": [
    "len(Xtr), len(ytr)"
   ]
  },
  {
   "cell_type": "code",
   "execution_count": 43,
   "metadata": {},
   "outputs": [
    {
     "data": {
      "text/plain": [
       "(49, 49)"
      ]
     },
     "execution_count": 43,
     "metadata": {},
     "output_type": "execute_result"
    }
   ],
   "source": [
    "len(Xte), len(yte)"
   ]
  },
  {
   "cell_type": "code",
   "execution_count": 44,
   "metadata": {},
   "outputs": [],
   "source": [
    "scores_val = []\n",
    "\n",
    "# REPEAT .fit, .score FOR EVERY a IN approaches\n",
    "for a in approaches:\n",
    "    # fit\n",
    "    a.fit(Xtr, ytr)\n",
    "    \n",
    "    # sklearn chooses a default error formula\n",
    "    # eg., mse for many approaches\n",
    "    score = a.score(Xte, yte)\n",
    "    \n",
    "    # remeber the scores and approaches\n",
    "    scores_val.append( (score, a) )"
   ]
  },
  {
   "cell_type": "code",
   "execution_count": 45,
   "metadata": {},
   "outputs": [
    {
     "data": {
      "text/plain": [
       "[(0.5577043209190853, LinearRegression()),\n",
       " (0.5242374096442314, Lasso()),\n",
       " (0.029998947549712107, KNeighborsRegressor(n_neighbors=1)),\n",
       " (0.5231710060195016, KNeighborsRegressor(n_neighbors=3)),\n",
       " (0.515269663025825, KNeighborsRegressor(n_neighbors=7)),\n",
       " (0.4880547006625572, KNeighborsRegressor(n_neighbors=21)),\n",
       " (0.45476621653817006, KNeighborsRegressor(n_neighbors=41))]"
      ]
     },
     "execution_count": 45,
     "metadata": {},
     "output_type": "execute_result"
    }
   ],
   "source": [
    "scores_val"
   ]
  },
  {
   "cell_type": "markdown",
   "metadata": {},
   "source": [
    "Using this approach we find the *exact opposite* of what the naive approach recommended,"
   ]
  },
  {
   "cell_type": "code",
   "execution_count": 47,
   "metadata": {},
   "outputs": [
    {
     "data": {
      "text/plain": [
       "(0.9896142080482307, KNeighborsRegressor(n_neighbors=1))"
      ]
     },
     "execution_count": 47,
     "metadata": {},
     "output_type": "execute_result"
    }
   ],
   "source": [
    "max(scores) # knn, k=1 *best model*  where fit(data) same as score(data)"
   ]
  },
  {
   "cell_type": "code",
   "execution_count": 48,
   "metadata": {},
   "outputs": [
    {
     "data": {
      "text/plain": [
       "(0.029998947549712107, KNeighborsRegressor(n_neighbors=1))"
      ]
     },
     "execution_count": 48,
     "metadata": {},
     "output_type": "execute_result"
    }
   ],
   "source": [
    "min(scores_val) # knn=1 is the *worse* where fit(training_set) different from score(validation_set) "
   ]
  },
  {
   "cell_type": "code",
   "execution_count": 49,
   "metadata": {},
   "outputs": [
    {
     "data": {
      "text/plain": [
       "(0.5577043209190853, LinearRegression())"
      ]
     },
     "execution_count": 49,
     "metadata": {},
     "output_type": "execute_result"
    }
   ],
   "source": [
    "max(scores_val)"
   ]
  },
  {
   "cell_type": "markdown",
   "metadata": {},
   "source": [
    "#### Aside: does train-test-split ensure traning/test have the same distribution?"
   ]
  },
  {
   "cell_type": "markdown",
   "metadata": {},
   "source": [
    "It will randomise the columns before splitting, so train ~= test,"
   ]
  },
  {
   "cell_type": "code",
   "execution_count": 52,
   "metadata": {},
   "outputs": [
    {
     "data": {
      "text/plain": [
       "0       Sun\n",
       "1       Sun\n",
       "2       Sun\n",
       "3       Sun\n",
       "4       Sun\n",
       "       ... \n",
       "239     Sat\n",
       "240     Sat\n",
       "241     Sat\n",
       "242     Sat\n",
       "243    Thur\n",
       "Name: day, Length: 244, dtype: category\n",
       "Categories (4, object): [Thur, Fri, Sat, Sun]"
      ]
     },
     "execution_count": 52,
     "metadata": {},
     "output_type": "execute_result"
    }
   ],
   "source": [
    "tips['day']"
   ]
  },
  {
   "cell_type": "markdown",
   "metadata": {},
   "source": [
    ".... We should statistically test the two datasets,"
   ]
  },
  {
   "cell_type": "code",
   "execution_count": 54,
   "metadata": {},
   "outputs": [
    {
     "data": {
      "text/plain": [
       "(total_bill    19.734000\n",
       " size           2.533333\n",
       " dtype: float64,\n",
       " total_bill    8.990449\n",
       " size          0.915315\n",
       " dtype: float64)"
      ]
     },
     "execution_count": 54,
     "metadata": {},
     "output_type": "execute_result"
    }
   ],
   "source": [
    "Xtr.mean(), Xtr.std()"
   ]
  },
  {
   "cell_type": "code",
   "execution_count": 55,
   "metadata": {},
   "outputs": [
    {
     "data": {
      "text/plain": [
       "(total_bill    19.992653\n",
       " size           2.714286\n",
       " dtype: float64,\n",
       " total_bill    8.990449\n",
       " size          0.915315\n",
       " dtype: float64)"
      ]
     },
     "execution_count": 55,
     "metadata": {},
     "output_type": "execute_result"
    }
   ],
   "source": [
    "Xte.mean(), Xtr.std()"
   ]
  },
  {
   "cell_type": "markdown",
   "metadata": {},
   "source": [
    "## What is a general methodology for Machine Learning?"
   ]
  },
  {
   "cell_type": "markdown",
   "metadata": {},
   "source": [
    "* obtain data + EDA\n",
    "    * `load_dataset`\n",
    "* prep data + EDA\n",
    "    * `dropna`\n",
    "* choose features and target + EDA\n",
    "    * `X = ...`\n",
    "    * `y = ...`\n",
    "* split train/test\n",
    "    * test will provide evaluation\n",
    "* select the best model\n",
    "    * cross validate with training data\n",
    "    * repeat 80/20 split many times *per algorithm*\n",
    "        * so that it sees all points in test/train phases\n",
    "* evaluate the best model\n",
    "    * on the test data\n",
    "* deploy \n",
    "    * report, software, ...\n",
    "\n",
    "    "
   ]
  },
  {
   "cell_type": "code",
   "execution_count": 62,
   "metadata": {},
   "outputs": [],
   "source": [
    "from sklearn.model_selection import cross_val_score\n",
    "from sklearn.neighbors import KNeighborsClassifier"
   ]
  },
  {
   "cell_type": "code",
   "execution_count": 74,
   "metadata": {},
   "outputs": [],
   "source": [
    "# 1. obtain\n",
    "\n",
    "titanic = sns.load_dataset('titanic')\n",
    "\n",
    "# 2. prepare\n",
    "\n",
    "cleaned = titanic.drop(columns=['deck']).dropna()\n",
    "\n",
    "# 3. choose X,y\n",
    "\n",
    "X = cleaned[['age', 'fare', 'pclass']]\n",
    "y = cleaned['survived']\n",
    "\n",
    "# 4. split\n",
    "\n",
    "Xtr, Xte, ytr, yte = train_test_split(X, y)\n",
    "\n",
    "\n",
    "# 4. choose best model\n",
    "\n",
    "scores = []\n",
    "\n",
    "scores.append( (cross_val_score(KNeighborsClassifier(3), Xtr, ytr).mean(), 3) )\n",
    "scores.append( (cross_val_score(KNeighborsClassifier(5), Xtr, ytr).mean(), 5) )\n",
    "scores.append( (cross_val_score(KNeighborsClassifier(7), Xtr, ytr).mean(), 7) )\n",
    "scores.append( (cross_val_score(KNeighborsClassifier(21), Xtr, ytr).mean(), 21) )\n",
    "scores.append( (cross_val_score(KNeighborsClassifier(41), Xtr, ytr).mean(), 41) )\n",
    "\n",
    "best = max(scores)\n",
    "\n",
    "# evaluate the best model\n",
    "\n",
    "best_score = KNeighborsClassifier(best[1]).fit(Xtr, ytr).score(Xte, yte)"
   ]
  },
  {
   "cell_type": "code",
   "execution_count": 75,
   "metadata": {},
   "outputs": [
    {
     "data": {
      "text/plain": [
       "0.7134831460674157"
      ]
     },
     "execution_count": 75,
     "metadata": {},
     "output_type": "execute_result"
    }
   ],
   "source": [
    "best_score"
   ]
  },
  {
   "cell_type": "markdown",
   "metadata": {},
   "source": [
    "```\n",
    "\n",
    "                 X, y \n",
    "                 \n",
    "                   |-> split ->  TEST, TRAIN, \n",
    "                                   |     |\n",
    "                                   |     |-> A1.fit(80% TRAIN).score(20% TRAIN) for 5 splits\n",
    "                                   |     |-> A2.fit(80% TRAIN).score(20% TRAIN) for 5 splits\n",
    "                                   |     |-> A3.fit(80% TRAIN).score(20% TRAIN) for 5 splits\n",
    "                                   |     |-> choose best, eg., A3\n",
    "                                   |\n",
    "                                   |-> A3(TRAIN).score(TEST) score on unseen data\n",
    "                                   \n",
    "               |-> REPORT: BEST MODEL, SCORE OF BEST MODEL\n",
    "```\n",
    "\n",
    "\n",
    "\n",
    "NB. `cross_val_score` just means `.fit(80% TRAIN).score(20% TRAIN) for 5 splits`"
   ]
  },
  {
   "cell_type": "markdown",
   "metadata": {},
   "source": [
    "## Exercise"
   ]
  },
  {
   "cell_type": "markdown",
   "metadata": {},
   "source": [
    "* Perform a `kNN` fitting for a prediction problem\n",
    "    * eg., predict survivial on titanic (classification)\n",
    "    * eg., predict tip on tips (regression)\n",
    "\n",
    "* Use `cross_val_score` to record a history of `k` vs `mean score`\n",
    "\n",
    "* Plot this using `sns.lineplot`\n",
    "    * and therefore show, visually, the best `k`"
   ]
  },
  {
   "cell_type": "code",
   "execution_count": 76,
   "metadata": {},
   "outputs": [
    {
     "data": {
      "text/plain": [
       "[(0.6478398871451242, 3),\n",
       " (0.6515429377534826, 5),\n",
       " (0.6590195732675014, 7),\n",
       " (0.6946570269793686, 21),\n",
       " (0.660994533591959, 41)]"
      ]
     },
     "execution_count": 76,
     "metadata": {},
     "output_type": "execute_result"
    }
   ],
   "source": [
    "scores"
   ]
  },
  {
   "cell_type": "code",
   "execution_count": 78,
   "metadata": {},
   "outputs": [],
   "source": [
    "\n",
    "scores_1to41 = []\n",
    "\n",
    "for k in range(1, 41):\n",
    "    scores_1to41.append(cross_val_score(KNeighborsClassifier(k), Xtr, ytr).mean())\n"
   ]
  },
  {
   "cell_type": "code",
   "execution_count": 79,
   "metadata": {},
   "outputs": [
    {
     "data": {
      "text/plain": [
       "<matplotlib.axes._subplots.AxesSubplot at 0x262ea92ed30>"
      ]
     },
     "execution_count": 79,
     "metadata": {},
     "output_type": "execute_result"
    },
    {
     "data": {
      "image/png": "[encoded data removed]",
      "text/plain": [
       "<Figure size 432x288 with 1 Axes>"
      ]
     },
     "metadata": {
      "needs_background": "light"
     },
     "output_type": "display_data"
    }
   ],
   "source": [
    "sns.lineplot(x=range(1, 41), y=scores_1to41)"
   ]
  },
  {
   "cell_type": "code",
   "execution_count": 82,
   "metadata": {},
   "outputs": [],
   "source": [
    "import numpy as np"
   ]
  },
  {
   "cell_type": "markdown",
   "metadata": {},
   "source": [
    "Aside, there is a useful function in `numpy` which provides the index of the maximum entry,"
   ]
  },
  {
   "cell_type": "code",
   "execution_count": 84,
   "metadata": {},
   "outputs": [
    {
     "data": {
      "text/plain": [
       "21"
      ]
     },
     "execution_count": 84,
     "metadata": {},
     "output_type": "execute_result"
    }
   ],
   "source": [
    "np.argmax(scores_1to41)"
   ]
  },
  {
   "cell_type": "markdown",
   "metadata": {},
   "source": [
    "## Review\n",
    "\n",
    "Graphs of the type, ie., where the validation score is on the vertical and a hyperparameter is on the horizontal, are very important in ML.\n",
    "\n",
    "\n",
    "They show the *performance* of our various approaches and thereby allows to choose the best at-a-glance.\n",
    "\n",
    "Aside, why not always just use `max`, etc. -- visually you may see the score being \"flat\" for a lot of approaches, and here the advice is then to choose the simplest. "
   ]
  }
 ],
 "metadata": {
  "kernelspec": {
   "display_name": "Python 3",
   "language": "python",
   "name": "python3"
  },
  "language_info": {
   "codemirror_mode": {
    "name": "ipython",
    "version": 3
   },
   "file_extension": ".py",
   "mimetype": "text/x-python",
   "name": "python",
   "nbconvert_exporter": "python",
   "pygments_lexer": "ipython3",
   "version": "3.8.3"
  }
 },
 "nbformat": 4,
 "nbformat_minor": 4
}
