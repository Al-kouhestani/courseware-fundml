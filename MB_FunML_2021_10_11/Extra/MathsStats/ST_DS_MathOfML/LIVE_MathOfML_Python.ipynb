{
 "cells": [
  {
   "cell_type": "markdown",
   "metadata": {},
   "source": [
    "## The Mathematics of Machine Learning in Python"
   ]
  },
  {
   "cell_type": "markdown",
   "metadata": {},
   "source": [
    "## Part 1: Sketching the need for \"Empirical Loss Minimization\""
   ]
  },
  {
   "cell_type": "markdown",
   "metadata": {},
   "source": [
    "$X$\n",
    "\n",
    "* hours asleep\n",
    "* amount of rem\n",
    "* caffine intake (ml)\n",
    "* resting hr \n",
    "\n",
    "\n",
    "$y$\n",
    "\n",
    "* sleep quality"
   ]
  },
  {
   "cell_type": "code",
   "execution_count": 24,
   "metadata": {},
   "outputs": [],
   "source": [
    "def f_true(hours, rem, caffine, hr):\n",
    "    a, b, c, d = 1/12, 1/100, 1/1000, 1/120\n",
    "    \n",
    "    return (a * hours + b * rem + c * caffine + d * hr)/4"
   ]
  },
  {
   "cell_type": "code",
   "execution_count": 25,
   "metadata": {},
   "outputs": [
    {
     "data": {
      "text/plain": [
       "0.42083333333333334"
      ]
     },
     "execution_count": 25,
     "metadata": {},
     "output_type": "execute_result"
    }
   ],
   "source": [
    "f_true(7, 50, 100, 60)"
   ]
  },
  {
   "cell_type": "code",
   "execution_count": 26,
   "metadata": {},
   "outputs": [],
   "source": [
    "D = [((h, r, c, hr), f_true(h, r, c, hr)) for h in range(0, 12) for r in range(0, 100, 10) for c in range(0, 1000, 100) for hr in range(0, 120)]"
   ]
  },
  {
   "cell_type": "code",
   "execution_count": 27,
   "metadata": {},
   "outputs": [
    {
     "data": {
      "text/plain": [
       "144000"
      ]
     },
     "execution_count": 27,
     "metadata": {},
     "output_type": "execute_result"
    }
   ],
   "source": [
    "len(D)"
   ]
  },
  {
   "cell_type": "code",
   "execution_count": 28,
   "metadata": {},
   "outputs": [],
   "source": [
    "from random import sample"
   ]
  },
  {
   "cell_type": "code",
   "execution_count": 29,
   "metadata": {},
   "outputs": [],
   "source": [
    "Din = sample(D, 100)"
   ]
  },
  {
   "cell_type": "code",
   "execution_count": 30,
   "metadata": {},
   "outputs": [],
   "source": [
    "def f1(hours, rem, caffine, hr):\n",
    "    return 0.1 * hours + 0.1 * rem + 0.2 * caffine + 0.3 * hr\n",
    "\n",
    "\n",
    "def f2(hours, rem, caffine, hr):\n",
    "    return 0.01 * hours + 0.01 * rem + 0.02 * caffine + 0.03 * hr"
   ]
  },
  {
   "cell_type": "code",
   "execution_count": 31,
   "metadata": {},
   "outputs": [],
   "source": [
    "yhat = [ ((h, r, c, hr), f1(h, r, c, hr), y) for ((h, r, c, hr), y) in Din ]"
   ]
  },
  {
   "cell_type": "code",
   "execution_count": 32,
   "metadata": {},
   "outputs": [],
   "source": [
    "# yhat = [ ((h, r, c, hr), f2(h, r, c, hr), y) for ((h, r, c, hr), y) in Din ]"
   ]
  },
  {
   "cell_type": "markdown",
   "metadata": {},
   "source": [
    "## Part 2: A Systematic Procedure"
   ]
  },
  {
   "cell_type": "code",
   "execution_count": 33,
   "metadata": {},
   "outputs": [],
   "source": [
    "def fhat(hours, rem, caffine, hr, w=[0.1, 0.1, 0.1, 0.1, 0.25]):\n",
    "        return (w[0] * hours + w[1] * rem + w[2] * caffine + w[3] * hr) * w[4]"
   ]
  },
  {
   "cell_type": "code",
   "execution_count": 34,
   "metadata": {},
   "outputs": [
    {
     "data": {
      "text/plain": [
       "1.0"
      ]
     },
     "execution_count": 34,
     "metadata": {},
     "output_type": "execute_result"
    }
   ],
   "source": [
    "fhat(10, 10, 10, 10)"
   ]
  },
  {
   "cell_type": "code",
   "execution_count": 35,
   "metadata": {},
   "outputs": [
    {
     "data": {
      "text/plain": [
       "0.1"
      ]
     },
     "execution_count": 35,
     "metadata": {},
     "output_type": "execute_result"
    }
   ],
   "source": [
    "w = [0.01, 0.01, 0.01, 0.01,  0.25]\n",
    "fhat(10, 10, 10, 10, w)"
   ]
  },
  {
   "cell_type": "code",
   "execution_count": 36,
   "metadata": {},
   "outputs": [],
   "source": [
    "from random import random\n",
    "\n",
    "\n",
    "w = [random(), random(), random(), random(),  random()]"
   ]
  },
  {
   "cell_type": "code",
   "execution_count": 37,
   "metadata": {},
   "outputs": [],
   "source": [
    "history = []\n",
    "\n",
    "\n",
    "for i in range(0, 100):\n",
    "    w[0] = i/10000\n",
    "    \n",
    "    total_loss = sum([ (fhat(h, r, c, hr, w) - y)**2 for ((h, r, c, hr), y) in Din ])\n",
    "    \n",
    "    history.append(( total_loss, w))"
   ]
  },
  {
   "cell_type": "code",
   "execution_count": 38,
   "metadata": {},
   "outputs": [
    {
     "data": {
      "text/plain": [
       "(232609.18662593488,\n",
       " [0.0099,\n",
       "  0.1162779824635809,\n",
       "  0.5787788124643216,\n",
       "  0.7471934998739974,\n",
       "  0.14586547779776948])"
      ]
     },
     "execution_count": 38,
     "metadata": {},
     "output_type": "execute_result"
    }
   ],
   "source": [
    "min(history)"
   ]
  },
  {
   "cell_type": "markdown",
   "metadata": {},
   "source": [
    "## Exercise"
   ]
  },
  {
   "cell_type": "markdown",
   "metadata": {},
   "source": [
    "We imagine there is a true function `true_profit()` which could provide a universe of all possible $(X, y)$, where `X` here is the age of a customer as they enter our store, and $y$ is the profit we make from them.\n",
    "\n",
    "$D$ is infinite in size (ie., cardinality), but below we simulate 100 values.\n",
    "\n",
    "$D_{in}$ is always of a small, fixed size (eg., even 1bn). This is a sample from $D$. \n",
    "\n",
    "Below you are given such a sample, the exercise is to determine a best function to model $D_{in}$, ie., to predict $y$ from $x$. \n",
    "\n",
    "* Strategies\n",
    "    * define lots of functions and try each by computing predictions with them \n",
    "    * use a loop and a python-function with a parameter that can vary\n",
    "    * etc. \n",
    "    \n",
    "* Justify your choice of function. \n",
    "\n",
    "$X : \\text{Age}$\n",
    "\n",
    "$y : \\text{Profit}$"
   ]
  },
  {
   "cell_type": "code",
   "execution_count": 39,
   "metadata": {},
   "outputs": [],
   "source": [
    "def true_profit(x_age):\n",
    "    return 0.1 * x_age + 0.50"
   ]
  },
  {
   "cell_type": "code",
   "execution_count": 118,
   "metadata": {},
   "outputs": [],
   "source": [
    "D = [(age,  true_profit(age) + random()) for age in range(0, 100)]"
   ]
  },
  {
   "cell_type": "code",
   "execution_count": 119,
   "metadata": {},
   "outputs": [],
   "source": [
    "Din = sample(D, 10)"
   ]
  },
  {
   "cell_type": "code",
   "execution_count": 120,
   "metadata": {},
   "outputs": [
    {
     "data": {
      "text/plain": [
       "[(21, 3.567284000051815),\n",
       " (90, 10.183520659825815),\n",
       " (3, 1.5165393365489808),\n",
       " (38, 5.123303975978282),\n",
       " (36, 4.835294664987518),\n",
       " (48, 5.782461108524877),\n",
       " (22, 3.0753825299250557),\n",
       " (44, 4.965009393320488),\n",
       " (15, 2.230077918425267),\n",
       " (5, 1.151635185643644)]"
      ]
     },
     "execution_count": 120,
     "metadata": {},
     "output_type": "execute_result"
    }
   ],
   "source": [
    "Din"
   ]
  },
  {
   "cell_type": "code",
   "execution_count": 121,
   "metadata": {},
   "outputs": [],
   "source": [
    "from itertools import product\n",
    "\n",
    "weights  = list(product([a/10 for a in range(-100, 100)], repeat=2))\n",
    "\n",
    "def loss_square(w, dataset, yhat):\n",
    "    return sum(w) + sum([( y - yhat ) ** 2 for (x, y), yhat in zip(dataset, yhat)])\n",
    "\n",
    "history = [\n",
    "    (loss_square(w, Din, [w[0]*x + w[1] for x, y in Din]), w) for w in weights\n",
    "]\n",
    "\n",
    "min(history)"
   ]
  },
  {
   "cell_type": "markdown",
   "metadata": {},
   "source": [
    "---"
   ]
  },
  {
   "cell_type": "code",
   "execution_count": 90,
   "metadata": {},
   "outputs": [],
   "source": [
    "coin = {'H', 'T'}"
   ]
  },
  {
   "cell_type": "code",
   "execution_count": 91,
   "metadata": {},
   "outputs": [],
   "source": [
    "from itertools import product"
   ]
  },
  {
   "cell_type": "code",
   "execution_count": 105,
   "metadata": {},
   "outputs": [],
   "source": [
    "three = set(product(coin, coin, coin))"
   ]
  },
  {
   "cell_type": "code",
   "execution_count": 107,
   "metadata": {},
   "outputs": [
    {
     "data": {
      "text/plain": [
       "{('H', 'H', 'H'),\n",
       " ('H', 'H', 'T'),\n",
       " ('H', 'T', 'H'),\n",
       " ('H', 'T', 'T'),\n",
       " ('T', 'H', 'H'),\n",
       " ('T', 'H', 'T'),\n",
       " ('T', 'T', 'H'),\n",
       " ('T', 'T', 'T')}"
      ]
     },
     "execution_count": 107,
     "metadata": {},
     "output_type": "execute_result"
    }
   ],
   "source": [
    "three"
   ]
  },
  {
   "cell_type": "code",
   "execution_count": 108,
   "metadata": {},
   "outputs": [
    {
     "data": {
      "text/plain": [
       "{('H', 'H', 'H'), ('T', 'T', 'T')}"
      ]
     },
     "execution_count": 108,
     "metadata": {},
     "output_type": "execute_result"
    }
   ],
   "source": [
    "{ same for same in three if len(set(same)) == 1}"
   ]
  },
  {
   "cell_type": "code",
   "execution_count": null,
   "metadata": {},
   "outputs": [],
   "source": []
  }
 ],
 "metadata": {
  "kernelspec": {
   "display_name": "Python 3",
   "language": "python",
   "name": "python3"
  },
  "language_info": {
   "codemirror_mode": {
    "name": "ipython",
    "version": 3
   },
   "file_extension": ".py",
   "mimetype": "text/x-python",
   "name": "python",
   "nbconvert_exporter": "python",
   "pygments_lexer": "ipython3",
   "version": "3.8.3"
  }
 },
 "nbformat": 4,
 "nbformat_minor": 4
}
