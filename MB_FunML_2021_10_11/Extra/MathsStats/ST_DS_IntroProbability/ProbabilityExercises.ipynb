{
 "cells": [
  {
   "cell_type": "markdown",
   "metadata": {},
   "source": [
    "# Exercises: Probability"
   ]
  },
  {
   "cell_type": "markdown",
   "metadata": {},
   "source": [
    "## Intro to Probability"
   ]
  },
  {
   "cell_type": "markdown",
   "metadata": {},
   "source": [
    "### Questions"
   ]
  },
  {
   "cell_type": "markdown",
   "metadata": {},
   "source": [
    "Suppose we observe a person choosing which city to travel from, $y$, so the domain of $y$ is $D_y$,"
   ]
  },
  {
   "cell_type": "code",
   "execution_count": 5,
   "metadata": {},
   "outputs": [],
   "source": [
    "Dy = {'Leeds', 'London', 'Manchester'}"
   ]
  },
  {
   "cell_type": "markdown",
   "metadata": {},
   "source": [
    "Q. Use `product()` to obtain the total outcome space of *three* possible observations.\n",
    "\n",
    "HINT: itertools, `product(..., repeat=...)`"
   ]
  },
  {
   "cell_type": "markdown",
   "metadata": {},
   "source": [
    "Q. Define an event E, by filtering the outcome space for the case where a majority of people chose the same city."
   ]
  },
  {
   "cell_type": "markdown",
   "metadata": {},
   "source": [
    "Q. What is the probility that E occurs?"
   ]
  },
  {
   "cell_type": "markdown",
   "metadata": {},
   "source": [
    "Q. \n",
    "\n",
    "* Choose a problem domain of your own interest (retail, finance, health, crime..). \n",
    "\n",
    "* Choose a *binary* target variable to model, ie., $y \\in \\{0, 1\\}$. \n",
    "\n",
    "* Define the outcome space for $N$ measurements of this variable (consider $N=10$, and also, EXTRA: can you represent $N=1000$ efficiently?).\n",
    "\n",
    "* Define three events of interest over this outcome space and determine their probabilities. \n"
   ]
  },
  {
   "cell_type": "markdown",
   "metadata": {},
   "source": [
    "### Extra\n",
    "\n",
    "\n",
    "Bayes theorem is,\n",
    "\n",
    "$$P(A|B, \\Omega) = \\frac{P(B|A, \\Omega)P(A|\\Omega)}{P(B|\\Omega)}$$\n",
    "\n",
    "Show bayes theorem holds for \n",
    "\n",
    "* $\\Omega$ : The outcome space for an experiment where \n",
    "    * a dice is rolled; if the outcome is even, a coin is flipped; if the outcome is odd, a dice is rolled\n",
    "* $A$ : that the second dice roll is odd \n",
    "* $B$ : that you initially roll a number greater than 3"
   ]
  },
  {
   "cell_type": "markdown",
   "metadata": {},
   "source": [
    "---"
   ]
  },
  {
   "cell_type": "markdown",
   "metadata": {},
   "source": [
    "## Intro to Probability Density"
   ]
  },
  {
   "cell_type": "markdown",
   "metadata": {},
   "source": [
    "Q. Obtain several real-world datasets (eg., via `sns.load_dataset`) and prepare for modelling (ie., removing missing data).\n",
    "\n",
    "Show in each case the means of several random samples from a column (ie., variable) are distributed approximately normally. \n",
    "\n",
    "Q. The formula for a normal distirbution is,\n",
    "\n",
    "```python\n",
    "\n",
    "def normal(outcome, m=100, s=15):\n",
    "    v = 2 * s ** 2\n",
    "    c = (pi * v) ** -0.5\n",
    "    \n",
    "    return c * exp( - ((outcome - m) ** 2) / v )\n",
    "```\n",
    "\n",
    "By obtaining the mean of means from one of your datasets above, and the standard deviation, *integrate* the normal distribution from the median to a point of interest. \n",
    "\n",
    "HINT: `from scipy.integrate import quad as areaof`\n",
    "\n",
    "\n",
    "### Extra\n",
    "Q. From one of your datasets perform a factoring (ie., groupby) on the column you have been sampling to create two subsets. (Eg., ages for men, ages for women). \n",
    "\n",
    "By obtaining the mean of their sample means, and their standard deviation; perform the same integration for both distributions.\n",
    "\n",
    "Is there a difference in value? If so, what is the meaning of this difference?"
   ]
  },
  {
   "cell_type": "markdown",
   "metadata": {},
   "source": [
    "## Intro to Random Variables"
   ]
  },
  {
   "cell_type": "markdown",
   "metadata": {},
   "source": [
    "Q. Starting with the outcome spaces you used in \"Intro to Probaility\" define several Random Variables (ie., python functions) which compute a real-value for events of interest.\n",
    "\n",
    "Eg., consider the event $E$: A majority wanted the same city. A random variable, $C$ could be a *count the number of unique choices*. This event then corresponds to $C >= 2$.\n",
    "\n",
    "Q. Plot the distributions of your random variables (ie., generate values and plot).\n",
    "\n",
    "### Extra\n",
    "\n",
    "> In probability theory and statistics, the Poisson distribution (/ˈpwɑːsɒn/; French pronunciation: ​[pwasɔ̃]), named after French mathematician Siméon Denis Poisson, is a discrete probability distribution that expresses the probability of a given number of events occurring in a fixed interval of time or space if these events occur with a known constant mean rate and independently of the time since the last event. -- Wikipedia\n",
    "\n",
    "Suppose we measure the arrival of messages over $N$ seconds, with an observation each second: $(t, y)$ where $t \\in \\{0,1,\\dots N\\}$, $y \\in \\{0, 1\\}$. \n",
    "\n",
    "Define the outcome space for $N=3$. \n",
    "\n",
    "What probability does each event have given a mean arrival rate of $1 s$ ?\n",
    "\n",
    "\n",
    "\n"
   ]
  },
  {
   "cell_type": "code",
   "execution_count": null,
   "metadata": {},
   "outputs": [],
   "source": []
  }
 ],
 "metadata": {
  "kernelspec": {
   "display_name": "Python 3",
   "language": "python",
   "name": "python3"
  },
  "language_info": {
   "codemirror_mode": {
    "name": "ipython",
    "version": 3
   },
   "file_extension": ".py",
   "mimetype": "text/x-python",
   "name": "python",
   "nbconvert_exporter": "python",
   "pygments_lexer": "ipython3",
   "version": "3.8.3"
  }
 },
 "nbformat": 4,
 "nbformat_minor": 4
}
