{
 "cells": [
  {
   "cell_type": "markdown",
   "metadata": {},
   "source": [
    "# Introduction to Probability: Frequencies, Expectations and Statistics\n",
    "## Statistics for Data Science\n",
    "---"
   ]
  },
  {
   "cell_type": "markdown",
   "metadata": {},
   "source": [
    "## Are all probability spaces equiprobable?"
   ]
  },
  {
   "cell_type": "markdown",
   "metadata": {},
   "source": [
    "In classical probability we are required to represent the event space equiprobably... this can be quite challenging.\n",
    "\n",
    "Consider the sequential events: a dice roll followed by either a coin flip (first even) or another dice roll (first odd). (This maps to any series of events with differently-sized outcome spaces.)\n"
   ]
  },
  {
   "cell_type": "code",
   "execution_count": 1,
   "metadata": {},
   "outputs": [
    {
     "data": {
      "text/plain": [
       "{1: {1, 2, 3, 4, 5, 6},\n",
       " 2: {'H', 'T'},\n",
       " 3: {1, 2, 3, 4, 5, 6},\n",
       " 4: {'H', 'T'},\n",
       " 5: {1, 2, 3, 4, 5, 6},\n",
       " 6: {'H', 'T'}}"
      ]
     },
     "execution_count": 1,
     "metadata": {},
     "output_type": "execute_result"
    }
   ],
   "source": [
    "die = set(range(1, 7))\n",
    "coin = set(\"HT\")\n",
    "\n",
    "O = { r : (coin if r %2 == 0 else die) for r in die }; O"
   ]
  },
  {
   "cell_type": "markdown",
   "metadata": {},
   "source": [
    "Note this isn't equiprobable,"
   ]
  },
  {
   "cell_type": "code",
   "execution_count": 8,
   "metadata": {},
   "outputs": [
    {
     "data": {
      "image/png": "[encoded data removed]",
      "text/plain": [
       "<Figure size 432x288 with 1 Axes>"
      ]
     },
     "metadata": {
      "needs_background": "light"
     },
     "output_type": "display_data"
    }
   ],
   "source": [
    "import seaborn as sns\n",
    "from random import randint, choice\n",
    "\n",
    "outcomes = []\n",
    "\n",
    "for _ in range(5000):\n",
    "    first = randint(1, 6)\n",
    "    \n",
    "    if first % 2 == 0:\n",
    "        second = choice(\"HT\")\n",
    "    else:\n",
    "        second = randint(1, 6)\n",
    "    \n",
    "    outcomes.append( f\"{first}{second}\")\n",
    "    \n",
    "sns.histplot(sorted(outcomes, key=outcomes.count));"
   ]
  },
  {
   "cell_type": "markdown",
   "metadata": {},
   "source": [
    "We *can* encode outcomes in an equiprobable fasion. \n",
    "\n",
    "\n",
    "We need the conditional outcome spaces to have the same length, so rather than represent H/T as \"HT\" we can use a 0-1 vector of the right size,"
   ]
  },
  {
   "cell_type": "code",
   "execution_count": 37,
   "metadata": {},
   "outputs": [
    {
     "data": {
      "image/png": "[encoded data removed]",
      "text/plain": [
       "<Figure size 432x288 with 1 Axes>"
      ]
     },
     "metadata": {
      "needs_background": "light"
     },
     "output_type": "display_data"
    }
   ],
   "source": [
    "import seaborn as sns\n",
    "from random import randint, choice\n",
    "\n",
    "eqi_outcomes = []\n",
    "\n",
    "for _ in range(5000):\n",
    "    first = randint(1, 6)\n",
    "    second = [\"0\"] * 6 \n",
    "    second[randint(0, 5)] = \"1\"\n",
    "    \n",
    "    eqi_outcomes.append(f\"{first}{''.join(second)}\")\n",
    "    \n",
    "sns.histplot(sorted(eqi_outcomes, key=eqi_outcomes.count));"
   ]
  },
  {
   "cell_type": "markdown",
   "metadata": {},
   "source": [
    "And to select Heads, we interpret \"Head\" as an even-numbered outcome on the second roll:"
   ]
  },
  {
   "cell_type": "code",
   "execution_count": 56,
   "metadata": {},
   "outputs": [],
   "source": [
    "def IsH(first, second):\n",
    "    return (int(first) % 2 == 0) and (second.index(\"1\") % 2 == 0)\n",
    "    \n",
    "    \n",
    "heads = { first +''.join(second) for first, *second in eqi_outcomes  if IsH(first, second) }\n",
    "ospace = set(eqi_outcomes)"
   ]
  },
  {
   "cell_type": "code",
   "execution_count": 57,
   "metadata": {},
   "outputs": [
    {
     "data": {
      "text/plain": [
       "0.25"
      ]
     },
     "execution_count": 57,
     "metadata": {},
     "output_type": "execute_result"
    }
   ],
   "source": [
    "len(heads)/len(ospace)"
   ]
  },
  {
   "cell_type": "code",
   "execution_count": 58,
   "metadata": {},
   "outputs": [
    {
     "data": {
      "text/plain": [
       "{'2000010',\n",
       " '2001000',\n",
       " '2100000',\n",
       " '4000010',\n",
       " '4001000',\n",
       " '4100000',\n",
       " '6000010',\n",
       " '6001000',\n",
       " '6100000'}"
      ]
     },
     "execution_count": 58,
     "metadata": {},
     "output_type": "execute_result"
    }
   ],
   "source": [
    "heads"
   ]
  },
  {
   "cell_type": "markdown",
   "metadata": {},
   "source": [
    "## Can we take a more sane approach to non-equiprobable spaces?"
   ]
  },
  {
   "cell_type": "markdown",
   "metadata": {},
   "source": [
    "Frequentist statistics is, in part, designed to enable us to cope when we cannot determine the (\"real\" equiprobable) outcome space. We *do statistics*, ie., work with real-numbers, rather than events. \n",
    "\n",
    "In this case frequencies:"
   ]
  },
  {
   "cell_type": "code",
   "execution_count": 92,
   "metadata": {},
   "outputs": [],
   "source": [
    "from collections import Counter \n",
    "from fractions import Fraction as F; F.__repr__ = F.__str__\n",
    "\n",
    "N = 5000\n",
    "outcomes = []\n",
    "for _ in range(N):\n",
    "    first = randint(1, 6)\n",
    "    \n",
    "    if first % 2 == 0:\n",
    "        second = choice(\"HT\")\n",
    "    else:\n",
    "        second = randint(1, 6)\n",
    "    \n",
    "    outcomes.append( f\"{first}{second}\")\n",
    "    \n",
    "pmf5k = { event : F(freq)/N for event, freq in Counter(outcomes).items() }"
   ]
  },
  {
   "cell_type": "code",
   "execution_count": 93,
   "metadata": {},
   "outputs": [
    {
     "data": {
      "text/plain": [
       "{'2H': 411/5000,\n",
       " '2T': 109/1250,\n",
       " '32': 123/5000,\n",
       " '4H': 401/5000,\n",
       " '11': 33/1000,\n",
       " '6T': 407/5000,\n",
       " '34': 77/2500,\n",
       " '13': 137/5000,\n",
       " '35': 151/5000,\n",
       " '52': 137/5000,\n",
       " '4T': 419/5000,\n",
       " '33': 139/5000,\n",
       " '12': 13/500,\n",
       " '16': 73/2500,\n",
       " '6H': 101/1250,\n",
       " '31': 143/5000,\n",
       " '36': 29/1000,\n",
       " '14': 147/5000,\n",
       " '56': 18/625,\n",
       " '53': 31/1250,\n",
       " '55': 16/625,\n",
       " '51': 137/5000,\n",
       " '15': 73/2500,\n",
       " '54': 63/2500}"
      ]
     },
     "execution_count": 93,
     "metadata": {},
     "output_type": "execute_result"
    }
   ],
   "source": [
    "pmf5k"
   ]
  },
  {
   "cell_type": "markdown",
   "metadata": {},
   "source": [
    "## What is a frequentist interpretation of probability?"
   ]
  },
  {
   "cell_type": "markdown",
   "metadata": {},
   "source": [
    "We imagine we can compute a probability (via a model), or otherwise obtain it from an experiment -- by considering it's long-run frequency,"
   ]
  },
  {
   "cell_type": "code",
   "execution_count": 90,
   "metadata": {},
   "outputs": [],
   "source": [
    "from collections import Counter \n",
    "\n",
    "Ns = range(10, 20_000, 1_000)\n",
    "limits = []\n",
    "for N in Ns:\n",
    "    outcomes = []\n",
    "    for _ in range(N):\n",
    "        first = randint(1, 6)\n",
    "        if first % 2 == 0:\n",
    "            second = choice(\"HT\")\n",
    "        else:\n",
    "            second = randint(1, 6)\n",
    "        outcomes.append( f\"{first}{second}\")\n",
    "    \n",
    "    limits.append({ event : F(freq)/N for event, freq in Counter(outcomes).items() })\n",
    "    \n",
    "p_4H = { n : float(pmf[\"4H\"]) for n, pmf in zip(Ns, limits) }"
   ]
  },
  {
   "cell_type": "code",
   "execution_count": 91,
   "metadata": {
    "scrolled": true
   },
   "outputs": [
    {
     "data": {
      "text/plain": [
       "<matplotlib.axes._subplots.AxesSubplot at 0x1c1fb6ede80>"
      ]
     },
     "execution_count": 91,
     "metadata": {},
     "output_type": "execute_result"
    },
    {
     "data": {
      "image/png": "[encoded data removed]",
      "text/plain": [
       "<Figure size 432x288 with 1 Axes>"
      ]
     },
     "metadata": {
      "needs_background": "light"
     },
     "output_type": "display_data"
    }
   ],
   "source": [
    "sns.lineplot(x=list(p_4H.keys()), y=list(p_4H.values()))"
   ]
  },
  {
   "cell_type": "markdown",
   "metadata": {},
   "source": [
    "Specifically,\n",
    "\n",
    "$P(E) = \\lim_{N \\rightarrow \\infty} \\frac{\\#E}{\\#N}$"
   ]
  },
  {
   "cell_type": "markdown",
   "metadata": {},
   "source": [
    "## What is Statistics?"
   ]
  },
  {
   "cell_type": "markdown",
   "metadata": {},
   "source": [
    "When we cannot work with events and outcome spaces directly we enter the world of real-numbers and random-variables called \"Statistics\".\n",
    "\n",
    "Here we are rarely trying to compute a single probability, typically rather, probability plays a weighting role on outcomes of interest. The weighted average of such quantities is called an *expectation*. \n",
    "\n",
    "Statistics has also been called the domain where we \"take expectations\", that is, consider these weighted-averages of random variables."
   ]
  },
  {
   "cell_type": "markdown",
   "metadata": {},
   "source": [
    "## What is the value of a Random Variable, on avearge?"
   ]
  },
  {
   "cell_type": "markdown",
   "metadata": {},
   "source": [
    "Suppose we win the face value of any dice roll, and 5p for heads and 0p for tails...\n",
    "\n",
    "What is the *expected* winnings (ie., for all outcomes)?"
   ]
  },
  {
   "cell_type": "code",
   "execution_count": 101,
   "metadata": {},
   "outputs": [
    {
     "data": {
      "text/plain": [
       "7"
      ]
     },
     "execution_count": 101,
     "metadata": {},
     "output_type": "execute_result"
    }
   ],
   "source": [
    "def win(outcome):\n",
    "    first, second = outcome\n",
    "    \n",
    "    return int(first) + int(second.replace('H', '5').replace('T', '5'))\n",
    "\n",
    "win('2H')"
   ]
  },
  {
   "cell_type": "code",
   "execution_count": 103,
   "metadata": {},
   "outputs": [],
   "source": [
    "from statistics import mean"
   ]
  },
  {
   "cell_type": "code",
   "execution_count": 114,
   "metadata": {},
   "outputs": [
    {
     "data": {
      "text/plain": [
       "0.32095"
      ]
     },
     "execution_count": 114,
     "metadata": {},
     "output_type": "execute_result"
    }
   ],
   "source": [
    "Q = [ (win(outcome), float(prob)) for outcome, prob in pmf5k.items() ]\n",
    "\n",
    "mean(pX * X  for X, pX in Q)"
   ]
  },
  {
   "cell_type": "markdown",
   "metadata": {},
   "source": [
    "## What is an Expectation?"
   ]
  },
  {
   "cell_type": "markdown",
   "metadata": {},
   "source": [
    "$$\\mathbb{E}_Q[X]$$"
   ]
  },
  {
   "cell_type": "markdown",
   "metadata": {},
   "source": [
    "$$\\mathbb{E}_Q[X] = \\sum_{x \\in X, p_x \\in Q} x \\cdot p_x  $$"
   ]
  },
  {
   "cell_type": "markdown",
   "metadata": {},
   "source": [
    "$$\\mathbb{E}_Q[X] = \\int x \\cdot p(x) dx $$"
   ]
  },
  {
   "cell_type": "code",
   "execution_count": 149,
   "metadata": {},
   "outputs": [],
   "source": [
    "from random import sample"
   ]
  },
  {
   "cell_type": "code",
   "execution_count": 150,
   "metadata": {},
   "outputs": [],
   "source": [
    "probX = {\n",
    "        1.5 : 0.6,\n",
    "        2.6 : 0.4\n",
    "    }\n",
    "\n",
    "\n",
    "Dx = [1.5] * 600 + [2.6] * 400\n",
    "\n",
    "X = sample(Dx, 20)"
   ]
  },
  {
   "cell_type": "code",
   "execution_count": 155,
   "metadata": {},
   "outputs": [
    {
     "data": {
      "text/plain": [
       "1.94"
      ]
     },
     "execution_count": 155,
     "metadata": {},
     "output_type": "execute_result"
    }
   ],
   "source": [
    "mean(Dx)"
   ]
  },
  {
   "cell_type": "code",
   "execution_count": 157,
   "metadata": {},
   "outputs": [
    {
     "data": {
      "text/plain": [
       "1.94"
      ]
     },
     "execution_count": 157,
     "metadata": {},
     "output_type": "execute_result"
    }
   ],
   "source": [
    "(1.5 * 0.6) + (2.6 * 0.4)"
   ]
  },
  {
   "cell_type": "code",
   "execution_count": 158,
   "metadata": {},
   "outputs": [
    {
     "data": {
      "text/plain": [
       "1.83"
      ]
     },
     "execution_count": 158,
     "metadata": {},
     "output_type": "execute_result"
    }
   ],
   "source": [
    "mean(X)"
   ]
  },
  {
   "cell_type": "code",
   "execution_count": null,
   "metadata": {},
   "outputs": [],
   "source": []
  }
 ],
 "metadata": {
  "kernelspec": {
   "display_name": "Python 3",
   "language": "python",
   "name": "python3"
  },
  "language_info": {
   "codemirror_mode": {
    "name": "ipython",
    "version": 3
   },
   "file_extension": ".py",
   "mimetype": "text/x-python",
   "name": "python",
   "nbconvert_exporter": "python",
   "pygments_lexer": "ipython3",
   "version": "3.8.3"
  }
 },
 "nbformat": 4,
 "nbformat_minor": 4
}
