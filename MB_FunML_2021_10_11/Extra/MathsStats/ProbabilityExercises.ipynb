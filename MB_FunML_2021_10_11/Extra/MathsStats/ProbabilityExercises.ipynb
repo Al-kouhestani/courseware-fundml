{
 "cells": [
  {
   "cell_type": "markdown",
   "metadata": {},
   "source": [
    "# Exercises: Probability"
   ]
  },
  {
   "cell_type": "markdown",
   "metadata": {},
   "source": [
    "## Intro to Probability"
   ]
  },
  {
   "cell_type": "markdown",
   "metadata": {},
   "source": [
    "### Questions"
   ]
  },
  {
   "cell_type": "markdown",
   "metadata": {},
   "source": [
    "Suppose we observe a person choosing which city to travel from, $y$, so the domain of $y$ is $D_y$,"
   ]
  },
  {
   "cell_type": "code",
   "execution_count": 5,
   "metadata": {},
   "outputs": [],
   "source": [
    "Dy = {'Leeds', 'London', 'Manchester'}"
   ]
  },
  {
   "cell_type": "markdown",
   "metadata": {},
   "source": [
    "Q. Use `product()` to obtain the total outcome space of *three* possible observations.\n",
    "\n",
    "HINT: itertools, `product(..., repeat=...)`"
   ]
  },
  {
   "cell_type": "markdown",
   "metadata": {},
   "source": [
    "Q. Define an event E, by filtering the outcome space for the case where a majority of people chose the same city."
   ]
  },
  {
   "cell_type": "markdown",
   "metadata": {},
   "source": [
    "Q. What is the probility that E occurs?"
   ]
  },
  {
   "cell_type": "markdown",
   "metadata": {},
   "source": [
    "Q. \n",
    "\n",
    "* Choose a problem domain of your own interest (retail, finance, health, crime..). \n",
    "\n",
    "* Choose a *binary* target variable to model, ie., $y \\in \\{0, 1\\}$. \n",
    "\n",
    "* Define the outcome space for $N$ measurements of this variable (consider $N=10$, and also, EXTRA: can you represent $N=1000$ efficiently?).\n",
    "\n",
    "* Define three events of interest over this outcome space and determine their probabilities. \n"
   ]
  },
  {
   "cell_type": "markdown",
   "metadata": {},
   "source": [
    "### Extra\n",
    "\n",
    "\n",
    "Bayes theorem is,\n",
    "\n",
    "$$P(A|B, \\Omega) = \\frac{P(B|A, \\Omega)P(A|\\Omega)}{P(B|\\Omega)}$$\n",
    "\n",
    "Show bayes theorem holds for \n",
    "\n",
    "* $\\Omega$ : The outcome space for an experiment where \n",
    "    * a dice is rolled; if the outcome is even, a coin is flipped; if the outcome is odd, a dice is rolled and its eveness is recorded\n",
    "* $A$ : that two die rolls are odd\n",
    "* $B$ : that you initially roll a number greater than 3"
   ]
  },
  {
   "cell_type": "markdown",
   "metadata": {},
   "source": [
    "---"
   ]
  },
  {
   "cell_type": "markdown",
   "metadata": {},
   "source": [
    "## Intro to Probability Density"
   ]
  },
  {
   "cell_type": "markdown",
   "metadata": {},
   "source": [
    "Q. Obtain several real-world datasets (eg., via `sns.load_dataset`) and prepare for modelling (ie., removing missing data).\n",
    "\n",
    "Show in each case the means of several random samples from a column (ie., variable) are distributed approximately normally. \n",
    "\n",
    "Q. The formula for a normal distirbution is,\n",
    "\n",
    "```python\n",
    "\n",
    "def normal(outcome, m=100, s=15):\n",
    "    v = 2 * s ** 2\n",
    "    c = (pi * v) ** -0.5\n",
    "    \n",
    "    return c * exp( - ((outcome - m) ** 2) / v )\n",
    "```\n",
    "\n",
    "By obtaining the mean of means from one of your datasets above, and the standard deviation, *integrate* the normal distribution from the median to a point of interest. \n",
    "\n",
    "HINT: `from scipy.integrate import quad as areaof`\n",
    "\n",
    "\n",
    "### Extra\n",
    "Q. From one of your datasets perform a factoring (ie., groupby) on the column you have been sampling to create two subsets. (Eg., ages for men, ages for women). \n",
    "\n",
    "By obtaining the mean of their sample means, and their standard deviation; perform the same integration for both distributions.\n",
    "\n",
    "Is there a difference in value? If so, what is the meaning of this difference?"
   ]
  },
  {
   "cell_type": "markdown",
   "metadata": {},
   "source": [
    "## Intro to Random Variables"
   ]
  },
  {
   "cell_type": "markdown",
   "metadata": {},
   "source": [
    "Q. Starting with the outcome spaces you used in \"Intro to Probaility\" define several Random Variables (ie., python functions) which compute a real-value for events of interest.\n",
    "\n",
    "Eg., consider the event $E$: A majority wanted the same city. A random variable, $C$ could be a *count the number of unique choices*. This event then corresponds to $C >= 2$.\n",
    "\n",
    "Q. Plot the distributions of your random variables (ie., generate values and plot).\n",
    "\n",
    "### Extra\n",
    "\n",
    "> In probability theory and statistics, the Poisson distribution (/ˈpwɑːsɒn/; French pronunciation: ​[pwasɔ̃]), named after French mathematician Siméon Denis Poisson, is a discrete probability distribution that expresses the probability of a given number of events occurring in a fixed interval of time or space if these events occur with a known constant mean rate and independently of the time since the last event. -- Wikipedia\n",
    "\n",
    "Assuming an event occurs independent of prior ones, on average with a time of $\\lambda$, the probability of $k$ events in an interval $n$, $P(k|n) =\\frac{\\lambda^k}{k!} e^{-\\lambda} $.\n",
    "\n",
    "\n",
    "Suppose we measure the (independent) arrival of messages over $N$ seconds, with an observation each second: $E = (y_0, \\dots y_N)$ where $y_i \\in \\{0, 1\\}$. \n",
    "\n",
    "**Q. Define the outcome space for $N=3$.**\n",
    "\n",
    "**Q. Compute a probability for each event in the outcome space given a mean arrival time $\\lambda$, (eg., 1.2s)**\n",
    "\n",
    "**Q. Introduce a random variable which obtains the event count from the outcome space.**\n",
    "\n",
    "**Q. By considering such a random variable show the sum of probabilities for these counts is close to 1.**\n",
    "\n",
    "**Q. Why isn't it 1?**"
   ]
  },
  {
   "cell_type": "code",
   "execution_count": 17,
   "metadata": {},
   "outputs": [
    {
     "name": "stdout",
     "output_type": "stream",
     "text": [
      "[0.21685983257678554, 0.21685983257678554, 0.36143305429464256, 0.30119421191220214, 0.36143305429464256, 0.36143305429464256, 0.0867439330307142, 0.21685983257678554]\n",
      "0.9662310318143443\n"
     ]
    }
   ],
   "source": [
    "from itertools import product\n",
    "from math import factorial, exp \n",
    "\n",
    "Dyi = {0, 1}\n",
    "\n",
    "l = 1.2\n",
    "N = 3\n",
    "O = set(product(Dyi, repeat=N))\n",
    "\n",
    "def P(k, N, l):\n",
    "    return exp(-1 * l) * (l ** k)/factorial(k)\n",
    "\n",
    "print([P(sum(e), N, l) for e in O ])\n",
    "\n",
    "X = set([sum(e) for e in O])\n",
    "\n",
    "print(sum([P(k, N, l) for k in X ]))"
   ]
  }
 ],
 "metadata": {
  "kernelspec": {
   "display_name": "Python 3",
   "language": "python",
   "name": "python3"
  },
  "language_info": {
   "codemirror_mode": {
    "name": "ipython",
    "version": 3
   },
   "file_extension": ".py",
   "mimetype": "text/x-python",
   "name": "python",
   "nbconvert_exporter": "python",
   "pygments_lexer": "ipython3",
   "version": "3.8.3"
  }
 },
 "nbformat": 4,
 "nbformat_minor": 4
}
