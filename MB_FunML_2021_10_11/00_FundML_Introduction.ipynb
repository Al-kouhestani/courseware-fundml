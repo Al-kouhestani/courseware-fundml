{
 "cells": [
  {
   "cell_type": "markdown",
   "metadata": {},
   "source": [
    "# Introductions"
   ]
  },
  {
   "cell_type": "markdown",
   "metadata": {},
   "source": [
    "## Overview"
   ]
  },
  {
   "cell_type": "markdown",
   "metadata": {},
   "source": [
    "* Day 1: Introductions, Concepts & Examples\n",
    "    * AM: Whiteboarding & Group Discussion\n",
    "        * Intro to Data Science\n",
    "        * Intro to ML & AI\n",
    "    * PM: Demos & Programming\n",
    "        * Intro to Python\n",
    "* Day 2: Python Data Analysis \n",
    "    * AM: Programming\n",
    "        * Python Programming\n",
    "    * PM: Data Analysis\n",
    "        * Pandas \n",
    "* Day 3: Methodology of Machine Learning\n",
    "    * AM: Whiteboarding \n",
    "        * Machine Learning Algorithms\n",
    "    * PM: Programming\n",
    "        * Machine Learning in Python"
   ]
  },
  {
   "cell_type": "markdown",
   "metadata": {},
   "source": [
    "## Admin\n",
    "\n",
    "* 9.30am to c. 4pm (END 4.30pm)\n",
    "* BREAK\n",
    "    * 20m finishing c. 11am \n",
    "    * c. 12pm - finishing 1pm\n",
    "    * 20m finishing c. 2.30pm \n",
    "    * + few more 5min breaks\n",
    "    \n",
    "* tools\n",
    "    * a single tool: Anaconda\n",
    "        * data science toolset + python\n",
    "    * https://repo.anaconda.com/archive/Anaconda3-2021.05-Windows-x86_64.exe\n",
    "    * second option\n",
    "        * connection to remote machine with anaconda installed\n",
    "* courseware\n",
    "    * released over a break\n",
    "    * you need anaconda to open/use/etc. the courseware"
   ]
  },
  {
   "cell_type": "markdown",
   "metadata": {},
   "source": [
    "## Steps to Using Anaconda\n",
    "\n",
    "1. OPEN \"Anaconda Navigator\" in Start Menu\n",
    "2. LAUNCH \"Jupyter Notebook\"\n",
    "3. GOTO  your downloads folder\n",
    "4. OPEN the courseware .zip file\n",
    "5. EXTRACT ALL to your downloads folder\n",
    "6. RETURN to Jupyter Notebook (browser window)\n",
    "7. BROWSE to your Downloads folder\n",
    "    * ie., click on the folder called Downloads\n",
    "8. OPEN the courseware folder"
   ]
  },
  {
   "cell_type": "markdown",
   "metadata": {},
   "source": [
    "## Michael Burgess\n",
    "\n",
    "#### michael.burgess@qa.com"
   ]
  },
  {
   "cell_type": "markdown",
   "metadata": {},
   "source": [
    "* Michael Burgess\n",
    "* Head of Capability -- Data, Analytics & AI \n",
    "* 7yr Physics, 5yr IT Contracting defence, telephony, fintech, ... 5/6yr QA\n",
    "* Philosophy, arguing, youtube, podcasts..."
   ]
  },
  {
   "cell_type": "markdown",
   "metadata": {},
   "source": [
    "* **Why are you *as a group* here?**\n",
    "    * Accenture (5 weeks)\n",
    "    * Various skills:\n",
    "        * 4wk introduction to java with a gateshead college\n",
    "        * MSc in Applied Data Analytics\n",
    "            * programming fundamentals in python\n",
    "            * on the job vs. training\n",
    "        * graduates, carear changes, \n",
    "---"
   ]
  },
  {
   "cell_type": "markdown",
   "metadata": {},
   "source": [
    "* What's your name?\n",
    "* What's your Role?\n",
    "* What's your background in..\n",
    "    * stats, data, **python**\n",
    "* Why are you attending this course?\n",
    "    * What do you expect from this course?\n",
    "    * What are you looking to get out of this course?\n",
    "* Any hobbies/interests?"
   ]
  },
  {
   "cell_type": "markdown",
   "metadata": {},
   "source": [
    "* Emeka \n",
    "    * ADA\n",
    "    * Non-technical, banking, NHS\n",
    "    * Expectations: ML\n",
    "    * Football, F1\n",
    "* Al(i) \n",
    "    * Recent mathematics graduate\n",
    "        * Matlab, some self-taught python & data analytics / science\n",
    "        * + java\n",
    "    * Limited intutition for ML algs, etc.\n",
    "    * Hikings, socials, cooking\n",
    "* Harriet \n",
    "    * History graduate, emeriates, L&D for Civil Services W&P\n",
    "        * brief web coding workshop\n",
    "        * limited formal experience\n",
    "    * Expectations: more than I know now\n",
    "    * Hobbies: running, marathons, family...\n",
    "* Catherine \n",
    "    * HR \n",
    "        * tech projects / system roll-outs\n",
    "        * some basic python\n",
    "    * Expectations: basic understanding\n",
    "    * Hobby: eating, cooking, hiking, water & sports\n",
    "* Anwesha \n",
    "    * Recent graduate, IR & Politics\n",
    "        * non-technical, some front-end webdev\n",
    "        * some python, self-learning\n",
    "        * some a-level stats\n",
    "    * Drawing, Painting, Sketching...\n",
    "        * Public lectures...\n",
    "* (Ore)ayo\n",
    "    * Economics \n",
    "        * Some econometrics / stata\n",
    "    * Accounting \n",
    "    * Some basic python \n",
    "        * + java\n",
    "    * Expectations: a firm conceptual understanding & uses of ML in biz\n",
    "    * Sports: football, f1, ..\n",
    "* Catherine \n",
    "    * Marketing\n",
    "    * Limited technical experience\n",
    "    * Expectations: background understanding \n",
    "        * equalize/level understandig across group\n",
    "    * Dogs, children, ...\n",
    "* Mo\n",
    "    * ADA\n",
    "    * History & Sociology\n",
    "        * Non-technical \n",
    "    * Expectations: learn some more\n",
    "    * Reading, Gaming, Eating \n",
    "    \n",
    "* Kate \n",
    "    * ADA\n",
    "    * Chemical Eng., Nuclear Eng., Lab Chemist\n",
    "        * Some Programming: Python, C++\n",
    "    * Expectation: idea for a project\n",
    "    * Music production / arduino\n",
    "    \n",
    "* Kelvin\n",
    "    * Application Development Associate\n",
    "    * Chemical Eng BSc, MSc/Eng\n",
    "        * some python; eng. management\n",
    "        * more about programming\n",
    "    * gymnastics, walking\n",
    "* Ben\n",
    "    * ADA\n",
    "    * Non-technical care sector\n",
    "    * Corporate training \n",
    "    * Fitness & health\n",
    "* Georgina \n",
    "    * ADA\n",
    "    * Non-technical, fashion \n",
    "        * limited data, programming, ...\n",
    "    * Expectations: more insight into data, programming, digital...\n",
    "    * Hobbies: swimming, gym, shopping\n",
    "* Matthew \n",
    "    * ..."
   ]
  },
  {
   "cell_type": "code",
   "execution_count": null,
   "metadata": {},
   "outputs": [],
   "source": []
  }
 ],
 "metadata": {
  "kernelspec": {
   "display_name": "Python 3.9",
   "language": "python",
   "name": "python3"
  },
  "language_info": {
   "codemirror_mode": {
    "name": "ipython",
    "version": 3
   },
   "file_extension": ".py",
   "mimetype": "text/x-python",
   "name": "python",
   "nbconvert_exporter": "python",
   "pygments_lexer": "ipython3",
   "version": "3.9.6"
  }
 },
 "nbformat": 4,
 "nbformat_minor": 4
}
