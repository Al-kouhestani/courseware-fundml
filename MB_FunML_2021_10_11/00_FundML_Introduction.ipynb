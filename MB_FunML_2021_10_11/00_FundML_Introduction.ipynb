{
 "cells": [
  {
   "cell_type": "markdown",
   "metadata": {},
   "source": [
    "# Introductions"
   ]
  },
  {
   "cell_type": "markdown",
   "metadata": {},
   "source": [
    "## Overview"
   ]
  },
  {
   "cell_type": "markdown",
   "metadata": {},
   "source": [
    "* Day 1: Introductions, Concepts & Examples\n",
    "    * Data Science by Example\n",
    "    * Introduction to AI\n",
    "    * Introduction to ML\n",
    "    * Introduction to Python\n",
    "* Day 2: Exploratory Data Analysis \n",
    "    * Python Programming\n",
    "    * Numerical Programming in Python\n",
    "    * Exploring & Processing (Tabular) Datasets\n",
    "* Day 3: Methodology of Machine Learning\n",
    "    * Machine Learning Algorithms\n",
    "    * Methodology of Machine Learning\n",
    "    * ..."
   ]
  },
  {
   "cell_type": "markdown",
   "metadata": {},
   "source": [
    "## Admin\n",
    "\n",
    "* 9.30am to c. 4pm (END 4.30pm)\n",
    "* BREAK\n",
    "    * 20m finishing c. 11am \n",
    "    * c. 12pm - finishing 1pm\n",
    "    * 20m finishing c. 2.30pm \n",
    "    * + few more 5min breaks\n",
    "    \n",
    "* tools\n",
    "    * a single tool: Anaconda\n",
    "        * data science toolset + python\n",
    "    * https://repo.anaconda.com/archive/Anaconda3-2021.05-Windows-x86_64.exe\n",
    "    * second option\n",
    "        * connection to remote machine with anaconda installed\n",
    "* courseware\n",
    "    * released over a break\n",
    "    * you need anaconda to open/use/etc. the courseware"
   ]
  },
  {
   "cell_type": "markdown",
   "metadata": {},
   "source": [
    "## Steps to Using Anaconda\n",
    "\n",
    "1. OPEN \"Anaconda Navigator\" in Start Menu\n",
    "2. LAUNCH \"Jupyter Notebook\"\n",
    "3. GOTO  your downloads folder\n",
    "4. OPEN the courseware .zip file\n",
    "5. EXTRACT ALL to your downloads folder\n",
    "6. RETURN to Jupyter Notebook (browser window)\n",
    "7. BROWSE to your Downloads folder\n",
    "    * ie., click on the folder called Downloads\n",
    "8. OPEN the courseware folder"
   ]
  },
  {
   "cell_type": "markdown",
   "metadata": {},
   "source": [
    "## Michael Burgess\n",
    "#### michael.burgess@qa.com"
   ]
  },
  {
   "cell_type": "markdown",
   "metadata": {},
   "source": [
    "* What's your name?\n",
    "    * Michael Burgess\n",
    "* What's your Role?\n",
    "    * Lead Subject Matter Expert for Data, Analytics & AI\n",
    "    * 5yr QA, 5yr IT Contracting in Defence/Telephony/Fintech/Web, 7yr Physics\n",
    "* What's your background in.\n",
    "    * data\n",
    "        * 20yr\n",
    "    * stats, probability\n",
    "        * ...\n",
    "    * python / programming\n",
    "        * 13yr in python, > 20yr programming\n",
    "    * machine learning\n",
    "        * 2013/14 msc +\n",
    "* Why are you attending this course?\n",
    "    * I'm delivering it\n",
    "* Any hobbies/interests?\n",
    "    * philosophy, arguing, podcasts, youtube, learning, tech...."
   ]
  },
  {
   "cell_type": "markdown",
   "metadata": {},
   "source": [
    "* **Why are you *as a group* here?**\n",
    "    * government actuaries department\n",
    "    * actuarial advice: financial risk (insurance, pensions, planning)\n",
    "        * advise entire public sector\n",
    "    * eg., 14mil members of public pension scheme\n",
    "        * increasing need to analyse to data\n",
    "        * best integrate techniques of ML\n",
    "    \n",
    "---\n",
    "* What's your name?\n",
    "* What's your Role?\n",
    "* What's your background in..\n",
    "    * stats, data, **python**\n",
    "* Why are you attending this course?\n",
    "* Any hobbies/interests?"
   ]
  },
  {
   "cell_type": "markdown",
   "metadata": {},
   "source": [
    "* Charlotte: Snr Actuary, Insurance: R 3yrs, some python... Running\n",
    "* Cody: Learning ML / Evaluating Use of ML; CompuSci, little programming; Cycling\n",
    "* Dave: Acutarial Director for People; Actuary 11yr; Maths&Stats; Some R, SQL; Hobby Python pygame; Cycling, Child\n",
    "* Dhanisha: Actuarial Services Team; High Level Understanding; Limited prg. background; Dancing, Boys\n",
    "* Fatima: Jnr Trainee Actuary; Maths; Some R; Practical Experience; Baking\n",
    "* Jonathan: Excel Actuary; 1yr at GAD. R/Python increasing use. \n",
    "* Karen: Snr Trn. Actuary; Some R; Understand capabilities of ML; Piano/Parties\n",
    "* Ope: Jnr Trainee; Lots R; Some Python; Stats&Data, Formal Grounding; Football Data Analysis, Standup\n",
    "* Rachel: Analyst; R & SAS; Limited Python; Maths grad.; Expand knowledge; Travelling\n",
    "* Ramen:  5yr GAD, private sector; Excel; Limited prg; Understand relevance of ML; Gardening\n",
    "* Santiago: 8yr; Understanding ML/BD/DS; Some programming exp; Sports & Travelling\n",
    "* Tammy: Jnr Trainee; Maths & Philosophy; Some R; ML in R; Understanding EDA methodology in python\n"
   ]
  },
  {
   "cell_type": "code",
   "execution_count": null,
   "metadata": {},
   "outputs": [],
   "source": []
  }
 ],
 "metadata": {
  "kernelspec": {
   "display_name": "Python 3",
   "language": "python",
   "name": "python3"
  },
  "language_info": {
   "codemirror_mode": {
    "name": "ipython",
    "version": 3
   },
   "file_extension": ".py",
   "mimetype": "text/x-python",
   "name": "python",
   "nbconvert_exporter": "python",
   "pygments_lexer": "ipython3",
   "version": "3.8.3"
  }
 },
 "nbformat": 4,
 "nbformat_minor": 4
}
