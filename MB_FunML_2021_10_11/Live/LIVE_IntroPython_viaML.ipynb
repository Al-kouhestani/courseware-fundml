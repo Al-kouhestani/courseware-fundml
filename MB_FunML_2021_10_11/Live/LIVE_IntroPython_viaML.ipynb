{
 "cells": [
  {
   "cell_type": "markdown",
   "id": "5ee3b572",
   "metadata": {},
   "source": [
    "# An Introduction to Python\n",
    "### with a Machine Learning Context"
   ]
  },
  {
   "cell_type": "markdown",
   "id": "da30d51b",
   "metadata": {},
   "source": [
    "---"
   ]
  },
  {
   "cell_type": "markdown",
   "id": "f6da2593",
   "metadata": {},
   "source": [
    "### Aside: The Learning Approach"
   ]
  },
  {
   "cell_type": "markdown",
   "id": "279fa646",
   "metadata": {},
   "source": [
    "* think about a machine learning problem\n",
    "    * quickly sketch some python code which will solve it\n",
    "    * reflect on the python\n",
    "    * exercise based on the code/solution we've developed\n",
    "* may go by quickly\n",
    "    * we're not teaching python!\n",
    "    * we're just getting to basic levels of independent learning\n",
    "* indepdenent exercise (c. 1hr)\n",
    "    * review notebook\n",
    "    * try code examples yourself\n",
    "    * expand with exercise questions"
   ]
  },
  {
   "cell_type": "markdown",
   "id": "474f1b5a",
   "metadata": {},
   "source": [
    "<em><font color=#666> Q. questions are in gray. Answer by inserting a cell. </font></em>"
   ]
  },
  {
   "cell_type": "markdown",
   "id": "e870d6aa",
   "metadata": {},
   "source": [
    "---"
   ]
  },
  {
   "cell_type": "markdown",
   "id": "da3cab3b",
   "metadata": {},
   "source": [
    "## The Problem"
   ]
  },
  {
   "cell_type": "markdown",
   "id": "68258207",
   "metadata": {},
   "source": [
    "* Problem Areas, Industries\n",
    "    * Insurance\n",
    "    * Health\n",
    "    * Cooking\n",
    "    * Security\n",
    "    * Crime\n",
    "    * Banking\n",
    "    * Film, Media\n",
    "    * Music\n",
    "    * Logistics\n",
    "* Crime\n",
    "    * history of crimes\n",
    "    * risk of violence:\n",
    "        * probability of being violent\n",
    "* Known Features $X$\n",
    "    * Criminal Record\n",
    "        * $X_0$ number of crimes\n",
    "    * Personal Details\n",
    "        * $X_1$ Area\n",
    "        * $X_2$ Age\n",
    "        * $X_3$ In Care System? \n",
    "* Unknown Target $y$\n",
    "    * $y$ is whether you are a violent offender"
   ]
  },
  {
   "cell_type": "markdown",
   "id": "6ceec4da",
   "metadata": {},
   "source": [
    "## Python"
   ]
  },
  {
   "cell_type": "markdown",
   "id": "228ae162",
   "metadata": {},
   "source": [
    "### Datasets"
   ]
  },
  {
   "cell_type": "markdown",
   "id": "658e0e61",
   "metadata": {},
   "source": [
    "* defining a variable `X`\n",
    "    * a list `[, , , ]`\n",
    "        * editable, expand, change\n",
    "    * a tuple `(, , , )`\n",
    "        * uneditable, fixed"
   ]
  },
  {
   "cell_type": "code",
   "execution_count": 8,
   "id": "8b6677ab",
   "metadata": {},
   "outputs": [],
   "source": [
    "X = [\n",
    "    (3, \"London\", 30, False),\n",
    "    (4, \"London\", 20, True),\n",
    "    (0, \"Manchester\", 18, True),\n",
    "    (1, \"Manchester\", None, False), # could be a list [,,,,]\n",
    "    (2, \"Manchester\", 50, False),\n",
    "]"
   ]
  },
  {
   "cell_type": "markdown",
   "id": "231a86c6",
   "metadata": {},
   "source": [
    "<em><font color=#666> Q. modify the definition of `X` to add a new row of data </font></em>"
   ]
  },
  {
   "cell_type": "markdown",
   "id": "4c6c30fb",
   "metadata": {},
   "source": [
    "By making the rows uneditable (\"immutable\") the original dataset is always exactly how it was received. \n",
    "\n",
    "To change the dataset we derive *a new one*. "
   ]
  },
  {
   "cell_type": "markdown",
   "id": "6f57c44c",
   "metadata": {},
   "source": [
    "##### Aside: `X` can be edited, eg., by appending a new element,"
   ]
  },
  {
   "cell_type": "code",
   "execution_count": 17,
   "id": "0a0a506d",
   "metadata": {},
   "outputs": [],
   "source": [
    "X.append((10, \"London\", 21, True))"
   ]
  },
  {
   "cell_type": "code",
   "execution_count": 18,
   "id": "01e8ba2b",
   "metadata": {},
   "outputs": [
    {
     "data": {
      "text/plain": [
       "[(3, 'London', 30, False),\n",
       " (4, 'London', 20, True),\n",
       " (0, 'Manchester', 18, True),\n",
       " (1, 'Manchester', None, False),\n",
       " (2, 'Manchester', 50, False),\n",
       " (10, 'London', 21, True)]"
      ]
     },
     "execution_count": 18,
     "metadata": {},
     "output_type": "execute_result"
    }
   ],
   "source": [
    "X"
   ]
  },
  {
   "cell_type": "markdown",
   "id": "1498a93f",
   "metadata": {},
   "source": [
    "<em><font color=#666> Q. append another row </font></em>"
   ]
  },
  {
   "cell_type": "markdown",
   "id": "b3703e90",
   "metadata": {},
   "source": [
    "* If we can expand `X`, then we must likewise be able to expand `y`, "
   ]
  },
  {
   "cell_type": "code",
   "execution_count": 9,
   "id": "e90b7adc",
   "metadata": {},
   "outputs": [],
   "source": [
    "y = [\n",
    "    True, \n",
    "    True, \n",
    "    False, \n",
    "    False, \n",
    "    False\n",
    "]"
   ]
  },
  {
   "cell_type": "code",
   "execution_count": 10,
   "id": "005c981a",
   "metadata": {},
   "outputs": [],
   "source": [
    "y.append(True)"
   ]
  },
  {
   "cell_type": "code",
   "execution_count": 11,
   "id": "056e86e0",
   "metadata": {},
   "outputs": [
    {
     "data": {
      "text/plain": [
       "[True, True, False, False, False, True]"
      ]
     },
     "execution_count": 11,
     "metadata": {},
     "output_type": "execute_result"
    }
   ],
   "source": [
    "y"
   ]
  },
  {
   "cell_type": "markdown",
   "id": "eb605b7b",
   "metadata": {},
   "source": [
    "<em><font color=#666> Q. `print()` X</em>"
   ]
  },
  {
   "cell_type": "markdown",
   "id": "bf8b92d6",
   "metadata": {},
   "source": [
    "##### Checking Data Quality"
   ]
  },
  {
   "cell_type": "markdown",
   "id": "d5e42d43",
   "metadata": {},
   "source": [
    "`len()` is the number of elements in a data structure, "
   ]
  },
  {
   "cell_type": "code",
   "execution_count": 19,
   "id": "a92ec495",
   "metadata": {},
   "outputs": [
    {
     "data": {
      "text/plain": [
       "6"
      ]
     },
     "execution_count": 19,
     "metadata": {},
     "output_type": "execute_result"
    }
   ],
   "source": [
    "len(X)"
   ]
  },
  {
   "cell_type": "code",
   "execution_count": 20,
   "id": "59c958e6",
   "metadata": {},
   "outputs": [
    {
     "data": {
      "text/plain": [
       "6"
      ]
     },
     "execution_count": 20,
     "metadata": {},
     "output_type": "execute_result"
    }
   ],
   "source": [
    "len(y)"
   ]
  },
  {
   "cell_type": "markdown",
   "id": "e1d8ded6",
   "metadata": {},
   "source": [
    "The `==` symbol compares two values for equality,"
   ]
  },
  {
   "cell_type": "code",
   "execution_count": 21,
   "id": "96d815ac",
   "metadata": {},
   "outputs": [
    {
     "data": {
      "text/plain": [
       "True"
      ]
     },
     "execution_count": 21,
     "metadata": {},
     "output_type": "execute_result"
    }
   ],
   "source": [
    "len(X) == len(y)"
   ]
  },
  {
   "cell_type": "markdown",
   "id": "f6d1596d",
   "metadata": {},
   "source": [
    "<em><font color=#666> Q. Are `X` and `y` the same length? `.append` to one or the other and check. </em>"
   ]
  },
  {
   "cell_type": "markdown",
   "id": "e377cf28",
   "metadata": {},
   "source": [
    "##### Aside: sum(y)"
   ]
  },
  {
   "cell_type": "code",
   "execution_count": 24,
   "id": "dffd925f",
   "metadata": {},
   "outputs": [
    {
     "data": {
      "text/plain": [
       "[True, True, False, False, False, True]"
      ]
     },
     "execution_count": 24,
     "metadata": {},
     "output_type": "execute_result"
    }
   ],
   "source": [
    "y"
   ]
  },
  {
   "cell_type": "markdown",
   "id": "dbcb35d1",
   "metadata": {},
   "source": [
    "Why is `sum(y)` 3?"
   ]
  },
  {
   "cell_type": "code",
   "execution_count": 23,
   "id": "fe19b48d",
   "metadata": {},
   "outputs": [
    {
     "data": {
      "text/plain": [
       "3"
      ]
     },
     "execution_count": 23,
     "metadata": {},
     "output_type": "execute_result"
    }
   ],
   "source": [
    "sum(y)"
   ]
  },
  {
   "cell_type": "markdown",
   "id": "e1f49f6f",
   "metadata": {},
   "source": [
    "In python `True` is \"a special version of `1`\", and `False` is a \"special version of `0`\", "
   ]
  },
  {
   "cell_type": "markdown",
   "id": "f4f52f9e",
   "metadata": {},
   "source": [
    "What does `sum/len` of `y` tell you?"
   ]
  },
  {
   "cell_type": "code",
   "execution_count": 29,
   "id": "30a938be",
   "metadata": {},
   "outputs": [
    {
     "data": {
      "text/plain": [
       "0.5"
      ]
     },
     "execution_count": 29,
     "metadata": {},
     "output_type": "execute_result"
    }
   ],
   "source": [
    "sum(y) / len(y)"
   ]
  },
  {
   "cell_type": "markdown",
   "id": "fbf9700c",
   "metadata": {},
   "source": [
    "\"Empirical probability\", the rate of `y` being `True` in **our dataset**. \n",
    "\n",
    "Rate of violent offenders in dataset, or \"our probability\" of seeing a violent offender. "
   ]
  },
  {
   "cell_type": "markdown",
   "id": "4ffe1b36",
   "metadata": {},
   "source": [
    "<em><font color=#666> Q. Define a list called `inspected` which is whether the crime has been investigated. Enter several `0` and `1`s in the list.</font></em>"
   ]
  },
  {
   "cell_type": "markdown",
   "id": "79c2fbf5",
   "metadata": {},
   "source": [
    "<em><font color=#666> Q. What is the rate of inspected crimes? </font></em>"
   ]
  },
  {
   "cell_type": "markdown",
   "id": "9d64e948",
   "metadata": {},
   "source": [
    "#### Checking the Elements of `X` and `y`"
   ]
  },
  {
   "cell_type": "markdown",
   "id": "88770e2b",
   "metadata": {},
   "source": [
    "The `0` index is the first entry,"
   ]
  },
  {
   "cell_type": "code",
   "execution_count": 31,
   "id": "c9517405",
   "metadata": {},
   "outputs": [
    {
     "data": {
      "text/plain": [
       "(3, 'London', 30, False)"
      ]
     },
     "execution_count": 31,
     "metadata": {},
     "output_type": "execute_result"
    }
   ],
   "source": [
    "X[0]"
   ]
  },
  {
   "cell_type": "code",
   "execution_count": 32,
   "id": "9e889fef",
   "metadata": {},
   "outputs": [
    {
     "data": {
      "text/plain": [
       "True"
      ]
     },
     "execution_count": 32,
     "metadata": {},
     "output_type": "execute_result"
    }
   ],
   "source": [
    "y[0]"
   ]
  },
  {
   "cell_type": "markdown",
   "id": "08851319",
   "metadata": {},
   "source": [
    "<em><font color=#666> Q. Show the second elements of `X` and `y`</font></em>"
   ]
  },
  {
   "cell_type": "markdown",
   "id": "796b050a",
   "metadata": {},
   "source": [
    "In python list indexes are *positions*, and elments can be access \"from the start\" and \"from the end\", "
   ]
  },
  {
   "cell_type": "code",
   "execution_count": 33,
   "id": "a5a10806",
   "metadata": {},
   "outputs": [
    {
     "data": {
      "text/plain": [
       "(3, 'London', 30, False)"
      ]
     },
     "execution_count": 33,
     "metadata": {},
     "output_type": "execute_result"
    }
   ],
   "source": [
    "X[0] # 0 = the start"
   ]
  },
  {
   "cell_type": "code",
   "execution_count": 39,
   "id": "4424eabc",
   "metadata": {},
   "outputs": [
    {
     "data": {
      "text/plain": [
       "(10, 'London', 21, True)"
      ]
     },
     "execution_count": 39,
     "metadata": {},
     "output_type": "execute_result"
    }
   ],
   "source": [
    "X[-1] # -1 = the end"
   ]
  },
  {
   "cell_type": "code",
   "execution_count": 35,
   "id": "a755813d",
   "metadata": {},
   "outputs": [
    {
     "data": {
      "text/plain": [
       "(2, 'Manchester', 50, False)"
      ]
     },
     "execution_count": 35,
     "metadata": {},
     "output_type": "execute_result"
    }
   ],
   "source": [
    "X[-2]"
   ]
  },
  {
   "cell_type": "markdown",
   "id": "00e880bd",
   "metadata": {},
   "source": [
    "<em><font color=#666> Q. Show the last element of `y` </font></em>"
   ]
  },
  {
   "cell_type": "markdown",
   "id": "3e822dbd",
   "metadata": {},
   "source": [
    "The fifth element along from the start, is also the second from the end,"
   ]
  },
  {
   "cell_type": "code",
   "execution_count": 38,
   "id": "824900bb",
   "metadata": {
    "scrolled": true
   },
   "outputs": [
    {
     "data": {
      "text/plain": [
       "True"
      ]
     },
     "execution_count": 38,
     "metadata": {},
     "output_type": "execute_result"
    }
   ],
   "source": [
    "X[4] == X[-2]"
   ]
  },
  {
   "cell_type": "markdown",
   "id": "ff919efb",
   "metadata": {},
   "source": [
    "In `X`, each element has parts, "
   ]
  },
  {
   "cell_type": "code",
   "execution_count": 40,
   "id": "98a47da9",
   "metadata": {},
   "outputs": [
    {
     "data": {
      "text/plain": [
       "(3, 'London', 30, False)"
      ]
     },
     "execution_count": 40,
     "metadata": {},
     "output_type": "execute_result"
    }
   ],
   "source": [
    "X[0]"
   ]
  },
  {
   "cell_type": "code",
   "execution_count": 43,
   "id": "cd004d67",
   "metadata": {},
   "outputs": [
    {
     "data": {
      "text/plain": [
       "'London'"
      ]
     },
     "execution_count": 43,
     "metadata": {},
     "output_type": "execute_result"
    }
   ],
   "source": [
    "X[0][1]"
   ]
  },
  {
   "cell_type": "code",
   "execution_count": 42,
   "id": "cdbf51fe",
   "metadata": {},
   "outputs": [
    {
     "data": {
      "text/plain": [
       "False"
      ]
     },
     "execution_count": 42,
     "metadata": {},
     "output_type": "execute_result"
    }
   ],
   "source": [
    "X[0][-1]"
   ]
  },
  {
   "cell_type": "markdown",
   "id": "fc273684",
   "metadata": {},
   "source": [
    "<em><font color=#666> Q. Show the number of crimes of the last person in `X` </font></em>"
   ]
  },
  {
   "cell_type": "markdown",
   "id": "e35c1fc6",
   "metadata": {},
   "source": [
    "Consider `X[index][index]`,\n",
    "\n",
    "* a variable name\n",
    "    * `varibale[index]` -- FIND `index` IN `variable`\n",
    "    * `...[index]` \n",
    "        * in lists and tuples `index` is a position\n",
    "* `X[a][b]`\n",
    "    * find `a` in `X`, in this element, find `b`"
   ]
  },
  {
   "cell_type": "code",
   "execution_count": 44,
   "id": "67bfc708",
   "metadata": {},
   "outputs": [
    {
     "data": {
      "text/plain": [
       "(3, 'London', 30, False)"
      ]
     },
     "execution_count": 44,
     "metadata": {},
     "output_type": "execute_result"
    }
   ],
   "source": [
    "X[0]"
   ]
  },
  {
   "cell_type": "code",
   "execution_count": 47,
   "id": "9baa8a6a",
   "metadata": {},
   "outputs": [
    {
     "data": {
      "text/plain": [
       "False"
      ]
     },
     "execution_count": 47,
     "metadata": {},
     "output_type": "execute_result"
    }
   ],
   "source": [
    "X[0][3]"
   ]
  },
  {
   "cell_type": "markdown",
   "id": "c563e252",
   "metadata": {},
   "source": [
    "##### Aside: This is just as,"
   ]
  },
  {
   "cell_type": "code",
   "execution_count": 49,
   "id": "ad322e59",
   "metadata": {},
   "outputs": [
    {
     "data": {
      "text/plain": [
       "False"
      ]
     },
     "execution_count": 49,
     "metadata": {},
     "output_type": "execute_result"
    }
   ],
   "source": [
    "(3, 'London', 30, False)[3]"
   ]
  },
  {
   "cell_type": "code",
   "execution_count": 50,
   "id": "e52c7795",
   "metadata": {},
   "outputs": [
    {
     "data": {
      "text/plain": [
       "False"
      ]
     },
     "execution_count": 50,
     "metadata": {},
     "output_type": "execute_result"
    }
   ],
   "source": [
    "(3, 'London', 30, False)[-1]"
   ]
  },
  {
   "cell_type": "markdown",
   "id": "eb0f0e4d",
   "metadata": {},
   "source": [
    "<em><font color=#666> Q. Change `False` to `True` in the tuples above. Why does the output change?  </font></em>"
   ]
  },
  {
   "cell_type": "markdown",
   "id": "805a9008",
   "metadata": {},
   "source": [
    "### Indexing Strings"
   ]
  },
  {
   "cell_type": "markdown",
   "id": "cbb26c17",
   "metadata": {},
   "source": [
    "Three quotes `\"\"\"` continue a piece text (ie., `string`) along several lines, "
   ]
  },
  {
   "cell_type": "code",
   "execution_count": 57,
   "id": "cd4900e3",
   "metadata": {},
   "outputs": [],
   "source": [
    "case_report = \"\"\"The defendent was seen breaking &\n",
    "entering through the window of the lower flat. \n",
    "\n",
    "-- Reporting Officer, Michael B. \n",
    "\"\"\""
   ]
  },
  {
   "cell_type": "markdown",
   "id": "5c099909",
   "metadata": {},
   "source": [
    "`print()` will output a piece of text, including its newlines and formatting,"
   ]
  },
  {
   "cell_type": "code",
   "execution_count": 58,
   "id": "f41a5f76",
   "metadata": {
    "scrolled": true
   },
   "outputs": [
    {
     "name": "stdout",
     "output_type": "stream",
     "text": [
      "The defendent was seen breaking &\n",
      "entering through the window of the lower flat. \n",
      "\n",
      "-- Reporting Officer, Michael B. \n",
      "\n"
     ]
    }
   ],
   "source": [
    "print(case_report)"
   ]
  },
  {
   "cell_type": "code",
   "execution_count": 61,
   "id": "dec1dadd",
   "metadata": {},
   "outputs": [
    {
     "data": {
      "text/plain": [
       "'d'"
      ]
     },
     "execution_count": 61,
     "metadata": {},
     "output_type": "execute_result"
    }
   ],
   "source": [
    "case_report[4]"
   ]
  },
  {
   "cell_type": "markdown",
   "id": "a727725e",
   "metadata": {},
   "source": [
    "Find the `0+4` (ie., 5th) position letter in the string, "
   ]
  },
  {
   "cell_type": "code",
   "execution_count": 62,
   "id": "011eb872",
   "metadata": {},
   "outputs": [
    {
     "data": {
      "text/plain": [
       "'d'"
      ]
     },
     "execution_count": 62,
     "metadata": {},
     "output_type": "execute_result"
    }
   ],
   "source": [
    "\"The defendent was seen breaking &\"[4]"
   ]
  },
  {
   "cell_type": "code",
   "execution_count": 63,
   "id": "948e4235",
   "metadata": {},
   "outputs": [
    {
     "data": {
      "text/plain": [
       "' '"
      ]
     },
     "execution_count": 63,
     "metadata": {},
     "output_type": "execute_result"
    }
   ],
   "source": [
    "\"space \"[-1]"
   ]
  },
  {
   "cell_type": "markdown",
   "id": "8c63edbe",
   "metadata": {},
   "source": [
    "<em><font color=#666> Q. Define another case report using `\"\"\"` strings. Show the 100th character.  </font></em>"
   ]
  },
  {
   "cell_type": "markdown",
   "id": "1cec618f",
   "metadata": {},
   "source": [
    "### Selecting Multiple Elements: Slicing"
   ]
  },
  {
   "cell_type": "markdown",
   "id": "78e720b4",
   "metadata": {},
   "source": [
    "In python you can select multiple elements at once, ie., taking a *slice*, "
   ]
  },
  {
   "cell_type": "code",
   "execution_count": 64,
   "id": "5b36e86d",
   "metadata": {},
   "outputs": [
    {
     "data": {
      "text/plain": [
       "[(3, 'London', 30, False),\n",
       " (4, 'London', 20, True),\n",
       " (0, 'Manchester', 18, True),\n",
       " (1, 'Manchester', None, False),\n",
       " (2, 'Manchester', 50, False),\n",
       " (10, 'London', 21, True)]"
      ]
     },
     "execution_count": 64,
     "metadata": {},
     "output_type": "execute_result"
    }
   ],
   "source": [
    "X"
   ]
  },
  {
   "cell_type": "code",
   "execution_count": 65,
   "id": "0bc09177",
   "metadata": {},
   "outputs": [
    {
     "data": {
      "text/plain": [
       "(3, 'London', 30, False)"
      ]
     },
     "execution_count": 65,
     "metadata": {},
     "output_type": "execute_result"
    }
   ],
   "source": [
    "X[0]"
   ]
  },
  {
   "cell_type": "markdown",
   "id": "61724a46",
   "metadata": {},
   "source": [
    "The first two, "
   ]
  },
  {
   "cell_type": "code",
   "execution_count": 67,
   "id": "11df403c",
   "metadata": {},
   "outputs": [
    {
     "data": {
      "text/plain": [
       "[(3, 'London', 30, False), (4, 'London', 20, True)]"
      ]
     },
     "execution_count": 67,
     "metadata": {},
     "output_type": "execute_result"
    }
   ],
   "source": [
    "X[0:2]"
   ]
  },
  {
   "cell_type": "markdown",
   "id": "986f1b66",
   "metadata": {},
   "source": [
    "<em><font color=#666> Q. Show the first two entires in `y`.  </font></em>"
   ]
  },
  {
   "cell_type": "markdown",
   "id": "92ece566",
   "metadata": {},
   "source": [
    "We include the element at the `start_index`, and keep including until (but not) the `end_index`, \n",
    "\n",
    "`X[ start_index : end_index ]`"
   ]
  },
  {
   "cell_type": "code",
   "execution_count": 68,
   "id": "fbd684f0",
   "metadata": {},
   "outputs": [
    {
     "data": {
      "text/plain": [
       "[(4, 'London', 20, True), (0, 'Manchester', 18, True)]"
      ]
     },
     "execution_count": 68,
     "metadata": {},
     "output_type": "execute_result"
    }
   ],
   "source": [
    "X[1:3]"
   ]
  },
  {
   "cell_type": "markdown",
   "id": "14223b99",
   "metadata": {},
   "source": [
    "<em><font color=#666> Q. In your case report above, show the characters from the first letter to the 10th letter.  </font></em>"
   ]
  },
  {
   "cell_type": "markdown",
   "id": "ef0fae6f",
   "metadata": {},
   "source": [
    "And we can use reversed indexes,"
   ]
  },
  {
   "cell_type": "code",
   "execution_count": 69,
   "id": "4f88d6b0",
   "metadata": {},
   "outputs": [
    {
     "data": {
      "text/plain": [
       "[(3, 'London', 30, False),\n",
       " (4, 'London', 20, True),\n",
       " (0, 'Manchester', 18, True),\n",
       " (1, 'Manchester', None, False),\n",
       " (2, 'Manchester', 50, False),\n",
       " (10, 'London', 21, True)]"
      ]
     },
     "execution_count": 69,
     "metadata": {},
     "output_type": "execute_result"
    }
   ],
   "source": [
    "X"
   ]
  },
  {
   "cell_type": "markdown",
   "id": "12c5516a",
   "metadata": {},
   "source": [
    "Third from the end, `-3`, *until* one from the end `-1`, "
   ]
  },
  {
   "cell_type": "code",
   "execution_count": 70,
   "id": "da826919",
   "metadata": {
    "scrolled": true
   },
   "outputs": [
    {
     "data": {
      "text/plain": [
       "[(1, 'Manchester', None, False), (2, 'Manchester', 50, False)]"
      ]
     },
     "execution_count": 70,
     "metadata": {},
     "output_type": "execute_result"
    }
   ],
   "source": [
    "X[-3:-1]"
   ]
  },
  {
   "cell_type": "markdown",
   "id": "21b4e294",
   "metadata": {},
   "source": [
    "If you leave off the `start_index`, python assumes `0`. \n",
    "\n",
    "If you leave off the `end_index`, python assumes `len(X)`, ie. until the end."
   ]
  },
  {
   "cell_type": "code",
   "execution_count": 71,
   "id": "4e6012da",
   "metadata": {},
   "outputs": [
    {
     "data": {
      "text/plain": [
       "[(3, 'London', 30, False), (4, 'London', 20, True)]"
      ]
     },
     "execution_count": 71,
     "metadata": {},
     "output_type": "execute_result"
    }
   ],
   "source": [
    "X[:2]"
   ]
  },
  {
   "cell_type": "markdown",
   "id": "b1e037b3",
   "metadata": {},
   "source": [
    "<em><font color=#666> Q. Show the first two entires in `y` without using `0` as the starting index.</font></em>"
   ]
  },
  {
   "cell_type": "code",
   "execution_count": 75,
   "id": "e0c2a31f",
   "metadata": {},
   "outputs": [
    {
     "data": {
      "text/plain": [
       "[(3, 'London', 30, False), (4, 'London', 20, True)]"
      ]
     },
     "execution_count": 75,
     "metadata": {},
     "output_type": "execute_result"
    }
   ],
   "source": [
    "X[0:2]"
   ]
  },
  {
   "cell_type": "code",
   "execution_count": 72,
   "id": "1f88da10",
   "metadata": {},
   "outputs": [
    {
     "data": {
      "text/plain": [
       "[(2, 'Manchester', 50, False), (10, 'London', 21, True)]"
      ]
     },
     "execution_count": 72,
     "metadata": {},
     "output_type": "execute_result"
    }
   ],
   "source": [
    "X[-2:]"
   ]
  },
  {
   "cell_type": "markdown",
   "id": "b036a126",
   "metadata": {},
   "source": [
    "<em><font color=#666> Q. Show the last two entires in `y` likewise.  </font></em>"
   ]
  },
  {
   "cell_type": "markdown",
   "id": "1186e843",
   "metadata": {},
   "source": [
    "Aside, to write this explicitly, `len(X)` is the last index in `X`, "
   ]
  },
  {
   "cell_type": "code",
   "execution_count": 77,
   "id": "2c506bcc",
   "metadata": {},
   "outputs": [
    {
     "data": {
      "text/plain": [
       "6"
      ]
     },
     "execution_count": 77,
     "metadata": {},
     "output_type": "execute_result"
    }
   ],
   "source": [
    "len(X)"
   ]
  },
  {
   "cell_type": "code",
   "execution_count": 78,
   "id": "739f35e5",
   "metadata": {},
   "outputs": [
    {
     "data": {
      "text/plain": [
       "[(2, 'Manchester', 50, False), (10, 'London', 21, True)]"
      ]
     },
     "execution_count": 78,
     "metadata": {},
     "output_type": "execute_result"
    }
   ],
   "source": [
    "X[-2:len(X)]"
   ]
  },
  {
   "cell_type": "markdown",
   "id": "dee616cf",
   "metadata": {},
   "source": [
    "Leaving off both means \"all\", "
   ]
  },
  {
   "cell_type": "code",
   "execution_count": 73,
   "id": "95d9c0a6",
   "metadata": {},
   "outputs": [
    {
     "data": {
      "text/plain": [
       "[(3, 'London', 30, False),\n",
       " (4, 'London', 20, True),\n",
       " (0, 'Manchester', 18, True),\n",
       " (1, 'Manchester', None, False),\n",
       " (2, 'Manchester', 50, False),\n",
       " (10, 'London', 21, True)]"
      ]
     },
     "execution_count": 73,
     "metadata": {},
     "output_type": "execute_result"
    }
   ],
   "source": [
    "X[:]"
   ]
  },
  {
   "cell_type": "markdown",
   "id": "0093a48c",
   "metadata": {},
   "source": [
    "This is the same as `X`,"
   ]
  },
  {
   "cell_type": "code",
   "execution_count": 74,
   "id": "db1ba11f",
   "metadata": {},
   "outputs": [
    {
     "data": {
      "text/plain": [
       "[(3, 'London', 30, False),\n",
       " (4, 'London', 20, True),\n",
       " (0, 'Manchester', 18, True),\n",
       " (1, 'Manchester', None, False),\n",
       " (2, 'Manchester', 50, False),\n",
       " (10, 'London', 21, True)]"
      ]
     },
     "execution_count": 74,
     "metadata": {},
     "output_type": "execute_result"
    }
   ],
   "source": [
    "X"
   ]
  },
  {
   "cell_type": "markdown",
   "id": "ebb600d9",
   "metadata": {},
   "source": [
    "<em><font color=#666> Q. why does `y == y[:]` ? </font></em>"
   ]
  },
  {
   "cell_type": "markdown",
   "id": "6a3637a2",
   "metadata": {},
   "source": [
    "### Process the Dataset"
   ]
  },
  {
   "cell_type": "code",
   "execution_count": 79,
   "id": "be3f1ed8",
   "metadata": {},
   "outputs": [
    {
     "data": {
      "text/plain": [
       "[(3, 'London', 30, False),\n",
       " (4, 'London', 20, True),\n",
       " (0, 'Manchester', 18, True),\n",
       " (1, 'Manchester', None, False),\n",
       " (2, 'Manchester', 50, False),\n",
       " (10, 'London', 21, True)]"
      ]
     },
     "execution_count": 79,
     "metadata": {},
     "output_type": "execute_result"
    }
   ],
   "source": [
    "X"
   ]
  },
  {
   "cell_type": "markdown",
   "id": "7a2ce8c0",
   "metadata": {},
   "source": [
    "We could manually repeat `print(row)` for every element in `X`,"
   ]
  },
  {
   "cell_type": "code",
   "execution_count": 84,
   "id": "1acbd3c9",
   "metadata": {},
   "outputs": [
    {
     "name": "stdout",
     "output_type": "stream",
     "text": [
      "(3, 'London', 30, False)\n",
      "(4, 'London', 20, True)\n",
      "(0, 'Manchester', 18, True)\n",
      "(1, 'Manchester', None, False)\n"
     ]
    }
   ],
   "source": [
    "row = X[0]\n",
    "print(row)\n",
    "\n",
    "row = X[1]\n",
    "print(row)\n",
    "\n",
    "row = X[2]\n",
    "print(row)\n",
    "\n",
    "row = X[3]\n",
    "print(row)\n",
    "\n",
    "# and so on..."
   ]
  },
  {
   "cell_type": "markdown",
   "id": "e79805b0",
   "metadata": {},
   "source": [
    "Or, this loop will assign `row` for us *to be* each element in `X` from the start until the end, "
   ]
  },
  {
   "cell_type": "code",
   "execution_count": 80,
   "id": "62fac01e",
   "metadata": {
    "scrolled": true
   },
   "outputs": [
    {
     "name": "stdout",
     "output_type": "stream",
     "text": [
      "(3, 'London', 30, False)\n",
      "(4, 'London', 20, True)\n",
      "(0, 'Manchester', 18, True)\n",
      "(1, 'Manchester', None, False)\n",
      "(2, 'Manchester', 50, False)\n",
      "(10, 'London', 21, True)\n"
     ]
    }
   ],
   "source": [
    "for row in X: \n",
    "    print(row)"
   ]
  },
  {
   "cell_type": "markdown",
   "id": "c3853f70",
   "metadata": {},
   "source": [
    "<em><font color=#666> Q. modify the definition of loop to print the first entry in each row, ie., the number of crimes. </font></em>"
   ]
  },
  {
   "cell_type": "markdown",
   "id": "3431bdad",
   "metadata": {},
   "source": [
    "And then repeat the code which is *indented*."
   ]
  },
  {
   "cell_type": "markdown",
   "id": "2ed55f81",
   "metadata": {},
   "source": [
    "### Looping to inspect the data, "
   ]
  },
  {
   "cell_type": "markdown",
   "id": "7bf44c73",
   "metadata": {},
   "source": [
    "A  data quality inspection report, "
   ]
  },
  {
   "cell_type": "code",
   "execution_count": 92,
   "id": "d054ceac",
   "metadata": {},
   "outputs": [
    {
     "name": "stdout",
     "output_type": "stream",
     "text": [
      "Num Crimes\t 3\n",
      "In care?\t False\n",
      "\n",
      "Num Crimes\t 4\n",
      "In care?\t True\n",
      "\n",
      "Num Crimes\t 0\n",
      "In care?\t True\n",
      "\n",
      "Num Crimes\t 1\n",
      "In care?\t False\n",
      "\n",
      "Num Crimes\t 2\n",
      "In care?\t False\n",
      "\n",
      "Num Crimes\t 10\n",
      "In care?\t True\n",
      "\n"
     ]
    }
   ],
   "source": [
    "for row in X: \n",
    "    print(\"Num Crimes\\t\", row[0])\n",
    "    print(\"In care?\\t\",  row[-1])\n",
    "    print()"
   ]
  },
  {
   "cell_type": "markdown",
   "id": "65e83f23",
   "metadata": {},
   "source": [
    "<em><font color=#666> Q. complete the report, show all elements of each row.  </font></em>"
   ]
  },
  {
   "cell_type": "markdown",
   "id": "7cdb5dd8",
   "metadata": {},
   "source": [
    "## Stretch Questions"
   ]
  },
  {
   "cell_type": "markdown",
   "id": "980f273d",
   "metadata": {},
   "source": [
    "<p><em><font color=#666>1. Create a new notebook .</font></em></p>\n",
    "<p><em><font color=#666>2. Choose a different problem domain.</font></em></p>\n",
    "<p><em><font color=#666>3. Consider a dataset of features $X$, targets $y$ .</font></em></p>\n",
    "<p><em><font color=#666>4. Reporduce this analysis for your own problem.</font></em></p>\n",
    "\n",
    "\n",
    "<p><em><font color=#666> Eg. Health, Sleep Quality, X = ...(HR, BP, Hours), y = [GOOD, BAD, OK]... .</font></em></p>"
   ]
  },
  {
   "cell_type": "markdown",
   "id": "e9e35721",
   "metadata": {},
   "source": [
    "## Advice for Novices\n",
    "\n",
    "* Create a new notebook\n",
    "* **TYPE OUT!**\n",
    "    * the code examples given\n",
    "    * (you need to understand the syntax, ie., to type it!)\n",
    "* Gradually modify these examples & experiment to see what they do\n",
    "* Do this for all the examples\n",
    "* Go back and do the questions"
   ]
  },
  {
   "cell_type": "markdown",
   "id": "de2534ff",
   "metadata": {},
   "source": [
    "# Part 2: Complex Looping & Conditions"
   ]
  },
  {
   "cell_type": "markdown",
   "id": "d1055079",
   "metadata": {},
   "source": [
    "## Preview of the Solution"
   ]
  },
  {
   "cell_type": "code",
   "execution_count": 105,
   "id": "c1f82710",
   "metadata": {},
   "outputs": [],
   "source": [
    "X = [\n",
    "    (3, \"London\", 30, False),\n",
    "    (4, \"London\", 20, True),\n",
    "    (0, \"Manchester\", 18, True),\n",
    "    (1, \"Manchester\", 20, False), \n",
    "    (2, \"Manchester\", 50, False),\n",
    "    (10, 'London', 21, True)\n",
    "]"
   ]
  },
  {
   "cell_type": "code",
   "execution_count": 110,
   "id": "dbd1bff5",
   "metadata": {},
   "outputs": [],
   "source": [
    "violents = {'crimes': [], 'locations': [], 'age': [], 'in_care': []}\n",
    "\n",
    "for features, target in zip(X, y):\n",
    "    if target:\n",
    "        violents['crimes'].append(features[0])\n",
    "        violents['locations'].append(features[1])\n",
    "        violents['age'].append(features[2])\n",
    "        violents['in_care'].append(features[3])\n"
   ]
  },
  {
   "cell_type": "code",
   "execution_count": 125,
   "id": "6090423a",
   "metadata": {},
   "outputs": [
    {
     "data": {
      "text/plain": [
       "{'crime': 5.666666666666667,\n",
       " 'location': 'London',\n",
       " 'age': 23.666666666666668,\n",
       " 'in_care': 0.6666666666666666}"
      ]
     },
     "execution_count": 125,
     "metadata": {},
     "output_type": "execute_result"
    }
   ],
   "source": [
    "from statistics import mode, mean \n",
    "\n",
    "factors = {\n",
    "    'crime': mean(violents['crimes']),\n",
    "    'location': mode(violents['locations']),\n",
    "    'age': mean(violents['age']),\n",
    "    'in_care': mean(violents['in_care']),\n",
    "}\n",
    "\n",
    "factors"
   ]
  },
  {
   "cell_type": "code",
   "execution_count": 133,
   "id": "c6e1b39a",
   "metadata": {},
   "outputs": [],
   "source": [
    "new_X = (2, \"London\", 27, False)\n",
    "\n",
    "score = (\n",
    "    new_X[0] * factors['crime'] + \n",
    "    new_X[2] * factors['age'] + \n",
    "    new_X[3] * factors['in_care'] + \n",
    "    100 * int(new_X[1] == factors['location']) \n",
    ")"
   ]
  },
  {
   "cell_type": "code",
   "execution_count": 134,
   "id": "1af600af",
   "metadata": {},
   "outputs": [
    {
     "data": {
      "text/plain": [
       "750.3333333333334"
      ]
     },
     "execution_count": 134,
     "metadata": {},
     "output_type": "execute_result"
    }
   ],
   "source": [
    "score"
   ]
  },
  {
   "cell_type": "code",
   "execution_count": 135,
   "id": "3ebc1e6e",
   "metadata": {},
   "outputs": [
    {
     "name": "stdout",
     "output_type": "stream",
     "text": [
      "NON-VIOLENT\n"
     ]
    }
   ],
   "source": [
    "if score >= 1000:\n",
    "    print(\"VIOLENT\")\n",
    "else:\n",
    "    print(\"NON-VIOLENT\")"
   ]
  },
  {
   "cell_type": "markdown",
   "id": "8b09d60c",
   "metadata": {},
   "source": [
    "---"
   ]
  },
  {
   "cell_type": "markdown",
   "id": "bb6f37e3",
   "metadata": {},
   "source": [
    "## Appendix"
   ]
  },
  {
   "cell_type": "code",
   "execution_count": 26,
   "id": "93ca120e",
   "metadata": {},
   "outputs": [
    {
     "data": {
      "text/plain": [
       "True"
      ]
     },
     "execution_count": 26,
     "metadata": {},
     "output_type": "execute_result"
    }
   ],
   "source": [
    "isinstance(False, int)"
   ]
  },
  {
   "cell_type": "code",
   "execution_count": null,
   "id": "72db1cb0",
   "metadata": {},
   "outputs": [],
   "source": []
  }
 ],
 "metadata": {
  "kernelspec": {
   "display_name": "Python 3.9",
   "language": "python",
   "name": "python3"
  },
  "language_info": {
   "codemirror_mode": {
    "name": "ipython",
    "version": 3
   },
   "file_extension": ".py",
   "mimetype": "text/x-python",
   "name": "python",
   "nbconvert_exporter": "python",
   "pygments_lexer": "ipython3",
   "version": "3.9.6"
  }
 },
 "nbformat": 4,
 "nbformat_minor": 5
}
